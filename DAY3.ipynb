{
 "cells": [
  {
   "cell_type": "code",
   "execution_count": 4,
   "id": "872b918e-388a-407e-9fbb-79053559e830",
   "metadata": {},
   "outputs": [
    {
     "name": "stdout",
     "output_type": "stream",
     "text": [
      "Counter({'a': 3, 'b': 3, 's': 2, 'c': 1, 'x': 1})\n",
      "Counter({'c': 6, 'a': 4, 'b': 2})\n"
     ]
    }
   ],
   "source": [
    "import collections\n",
    "\n",
    "print(collections.Counter(['a','b','b','b','c','s','x','a','a','s']))\n",
    "\n",
    "print(collections.Counter(a=4, b=2, c=6))"
   ]
  },
  {
   "cell_type": "code",
   "execution_count": 8,
   "id": "3a33d439-b9e8-4d84-aa47-0815b6e31d03",
   "metadata": {},
   "outputs": [
    {
     "name": "stdout",
     "output_type": "stream",
     "text": [
      "Initial :  Counter()\n",
      "sequence :  Counter({'k': 9, 'd': 8, 'j': 8, 'f': 7, 'l': 6, 'h': 2})\n",
      "Dictionary :  Counter({'k': 28, 'd': 20, 'j': 8, 'f': 7, 'l': 6, 'h': 2})\n"
     ]
    }
   ],
   "source": [
    "c = collections.Counter()\n",
    "\n",
    "print(\"Initial : \", c)\n",
    "\n",
    "c.update(\"dkhkjfhlkdfjlkdjflkdfjkldfjkdfjdklfjlkdj\")\n",
    "\n",
    "print(\"sequence : \", c)\n",
    "\n",
    "c.update({'k' : 19, 'd' : 12})\n",
    "\n",
    "print(\"Dictionary : \", c)"
   ]
  },
  {
   "cell_type": "code",
   "execution_count": 9,
   "id": "33c378c4-3263-4f59-b2c6-f5a4d6456d22",
   "metadata": {},
   "outputs": [
    {
     "name": "stdout",
     "output_type": "stream",
     "text": [
      "Counter({'s': 6, 'h': 4, 'a': 3, 'b': 3, 'k': 2, 'c': 1, 'x': 1, 'j': 1, 'd': 1})\n"
     ]
    }
   ],
   "source": [
    "c1 = collections.Counter(['a','b','b','b','c','s','x','a','a','s'])\n",
    "c2 = collections.Counter(\"jshkshshksdh\")\n",
    "\n",
    "print(c1 + c2)\n"
   ]
  },
  {
   "cell_type": "code",
   "execution_count": 10,
   "id": "e9e09fef-8977-4a7d-b397-4148c81ae342",
   "metadata": {},
   "outputs": [
    {
     "name": "stdout",
     "output_type": "stream",
     "text": [
      "Counter({'a': 3, 'b': 3, 'c': 1, 'x': 1})\n"
     ]
    }
   ],
   "source": [
    "print(c1 - c2)\n"
   ]
  },
  {
   "cell_type": "code",
   "execution_count": 11,
   "id": "a1ab55e9-2701-41ad-95ba-f6b312afa5b6",
   "metadata": {},
   "outputs": [
    {
     "name": "stdout",
     "output_type": "stream",
     "text": [
      "Counter({'s': 2})\n"
     ]
    }
   ],
   "source": [
    "print(c1 & c2)"
   ]
  },
  {
   "cell_type": "code",
   "execution_count": 12,
   "id": "47db00c2-3d65-4941-880c-cb4b0f1bec8f",
   "metadata": {},
   "outputs": [
    {
     "name": "stdout",
     "output_type": "stream",
     "text": [
      "Counter({'s': 4, 'h': 4, 'a': 3, 'b': 3, 'k': 2, 'c': 1, 'x': 1, 'j': 1, 'd': 1})\n"
     ]
    }
   ],
   "source": [
    "print(c1 | c2)"
   ]
  },
  {
   "cell_type": "code",
   "execution_count": 19,
   "id": "803ab1c2-2f99-44ff-b60f-febd9ef352c2",
   "metadata": {},
   "outputs": [
    {
     "name": "stdout",
     "output_type": "stream",
     "text": [
      "3\n",
      "5\n",
      "8\n",
      "9\n"
     ]
    }
   ],
   "source": [
    "from collections import deque\n",
    "\n",
    "dq1 = deque({3 : 'a', 5 : 'b', 8 : 'c', 9 : 'd'})\n",
    "\n",
    "for e in dq1 :\n",
    "    print(e)"
   ]
  },
  {
   "cell_type": "code",
   "execution_count": 20,
   "id": "f8690420-e8c6-44c3-ac15-ac8032911700",
   "metadata": {},
   "outputs": [
    {
     "name": "stdout",
     "output_type": "stream",
     "text": [
      "3\n",
      "5\n",
      "8\n",
      "9\n"
     ]
    }
   ],
   "source": [
    "dq2 = deque(dq1)\n",
    "for e in dq2 :\n",
    "    print(e)"
   ]
  },
  {
   "cell_type": "code",
   "execution_count": 21,
   "id": "8b762d6d-16a2-4d0f-9c69-270dd23a3791",
   "metadata": {},
   "outputs": [
    {
     "name": "stdout",
     "output_type": "stream",
     "text": [
      "3\n",
      "5\n",
      "8\n",
      "9\n"
     ]
    }
   ],
   "source": [
    "dq3 = deque(dq2)\n",
    "for e in dq3 :\n",
    "    print(e)"
   ]
  },
  {
   "cell_type": "code",
   "execution_count": 26,
   "id": "912fffe4-adf7-4a09-88be-d1acb8f8bb9b",
   "metadata": {},
   "outputs": [
    {
     "name": "stdout",
     "output_type": "stream",
     "text": [
      "set()\n",
      "set()\n",
      "set()\n",
      "{'h', 'g'}\n",
      "{'j', 'l', 'f', 'd', 'h', 'k', 's'}\n",
      "frozenset({'a', 'b', 'c'})\n"
     ]
    }
   ],
   "source": [
    "print(set())\n",
    "print(set([]))\n",
    "print(set(()))\n",
    "print(set(\"gh\"))\n",
    "print(set(\"dfhkdhflkdlkdfjkdsfjdklfjldkfjdlkfjkdfl\"))\n",
    "\n",
    "print(frozenset(['a','a','b','c']))"
   ]
  },
  {
   "cell_type": "code",
   "execution_count": 29,
   "id": "9553f8d0-3a42-4ec0-b55a-a7eb286fb53a",
   "metadata": {},
   "outputs": [
    {
     "name": "stdout",
     "output_type": "stream",
     "text": [
      "{1, 2, 3, 4, 5}\n",
      "{1, 2, 3, 4, 5}\n",
      "{1, 2, 3, 4}\n"
     ]
    }
   ],
   "source": [
    "a = set([1,2,3,4])\n",
    "b = set([1,2,3,4,5])\n",
    "\n",
    "print(a.union(b))\n",
    "print(a | b)\n",
    "\n",
    "print(a & b)"
   ]
  },
  {
   "cell_type": "code",
   "execution_count": 32,
   "id": "8604b039-fe8d-457d-85f2-c478f4992cbc",
   "metadata": {},
   "outputs": [
    {
     "name": "stdout",
     "output_type": "stream",
     "text": [
      "True\n",
      "True\n",
      "{1, 2, 3, 4}\n",
      "set()\n",
      "set()\n",
      "{5}\n",
      "{5}\n",
      "{1, 2, 3, 4}\n"
     ]
    }
   ],
   "source": [
    "\n",
    "a = set([1,2,3,4])\n",
    "b = set([1,2,3,4,5])\n",
    "c = a & b\n",
    "\n",
    "\n",
    "print(c.issubset(a))\n",
    "print(c.issuperset(a))\n",
    "print(c.intersection(a))\n",
    "print(a.difference(b))\n",
    "print(a-b)\n",
    "print(a.symmetric_difference(b))\n",
    "print(a ^ b)\n",
    "print(a.copy())"
   ]
  },
  {
   "cell_type": "code",
   "execution_count": 37,
   "id": "9499555b-5c85-4cd0-b856-721d20eba2f1",
   "metadata": {},
   "outputs": [
    {
     "name": "stdout",
     "output_type": "stream",
     "text": [
      "{'s': 4, 'h': 4, 'a': 3, 'b': 3, 'k': 2, 'c': 1, 'x': 1, 'j': 1, 'd': 1}\n",
      "{'s': 4, 'h': 4, 'a': 3, 'b': 3, 'k': 2, 'c': 1, 'x': 1, 'j': 1, 'd': 1, 'name': 'Ram', 'age': 23, 'address': 'blr'}\n"
     ]
    }
   ],
   "source": [
    "dict1 = {'s': 4, 'h': 4, 'a': 3, 'b': 3, 'k': 2, 'c': 1, 'x': 1, 'j': 1, 'd': 1}\n",
    "\n",
    "print(dict1)\n",
    "\n",
    "dict1[\"name\"] = \"Ram\"\n",
    "dict1[\"age\"] = 23\n",
    "dict1[\"address\"] = \"blr\"\n",
    "\n",
    "print(dict)"
   ]
  },
  {
   "cell_type": "code",
   "execution_count": 4,
   "id": "0e94c419-b0f5-444c-903f-21dc2f04a8ed",
   "metadata": {},
   "outputs": [
    {
     "name": "stdout",
     "output_type": "stream",
     "text": [
      "[('a', 'b'), (30, 40)]\n",
      "{'a': 'b', 30: 40}\n"
     ]
    }
   ],
   "source": [
    "items = [(\"a\", \"b\"), (30, 40)]\n",
    "\n",
    "print(items)\n",
    "\n",
    "d = dict(items)\n",
    "\n",
    "print(d)"
   ]
  },
  {
   "cell_type": "code",
   "execution_count": 40,
   "id": "091be7bc-8a6b-41ae-a7b2-3f186f3068c6",
   "metadata": {},
   "outputs": [
    {
     "ename": "TypeError",
     "evalue": "'dict' object is not callable",
     "output_type": "error",
     "traceback": [
      "\u001b[1;31m---------------------------------------------------------------------------\u001b[0m",
      "\u001b[1;31mTypeError\u001b[0m                                 Traceback (most recent call last)",
      "Input \u001b[1;32mIn [40]\u001b[0m, in \u001b[0;36m<cell line: 1>\u001b[1;34m()\u001b[0m\n\u001b[1;32m----> 1\u001b[0m d \u001b[38;5;241m=\u001b[39m \u001b[38;5;28;43mdict\u001b[39;49m\u001b[43m(\u001b[49m\u001b[43mitems\u001b[49m\u001b[43m)\u001b[49m\n",
      "\u001b[1;31mTypeError\u001b[0m: 'dict' object is not callable"
     ]
    }
   ],
   "source": [
    "d = dict(items)"
   ]
  },
  {
   "cell_type": "code",
   "execution_count": 1,
   "id": "33c2b1d3-5b67-48dc-a960-3c8c4856423b",
   "metadata": {},
   "outputs": [
    {
     "name": "stdout",
     "output_type": "stream",
     "text": [
      "{'x': 1, 'y': 2}\n"
     ]
    }
   ],
   "source": [
    "print(dict(zip(('x', 'y'), (1, 2))))"
   ]
  },
  {
   "cell_type": "code",
   "execution_count": 7,
   "id": "ef537157-f0c7-4179-875b-09582e4fa104",
   "metadata": {},
   "outputs": [
    {
     "name": "stdout",
     "output_type": "stream",
     "text": [
      "{'s': 4, 'h': 4, 'a': 3, 'b': 3, 'k': 2, 'c': 1, 'x': 1, 'j': 1, 'd': 1}\n",
      "{'s': 4, 'h': 4, 'a': 3, 'b': 3, 'k': 2, 'c': 1, 'x': 1, 'j': 1, 'd': 1, 'name': 'Ram', 'age': 23, 'address': 'blr'}\n",
      "{'s': 4, 'h': 4, 'a': 3, 'b': 3, 'k': 2, 'c': 1, 'x': 1, 'j': 1, 'd': 1, 'name': 'Ram', 'address': 'blr'}\n"
     ]
    }
   ],
   "source": [
    "\n",
    "dict1 = {'s': 4, 'h': 4, 'a': 3, 'b': 3, 'k': 2, 'c': 1, 'x': 1, 'j': 1, 'd': 1}\n",
    "\n",
    "print(dict1)\n",
    "\n",
    "dict1[\"name\"] = \"Ram\"\n",
    "dict1[\"age\"] = 23\n",
    "dict1[\"address\"] = \"blr\"\n",
    "\n",
    "\n",
    "print(dict1)\n",
    "\n",
    "\n",
    "del dict1['age']\n",
    "\n",
    "print(dict1)"
   ]
  },
  {
   "cell_type": "code",
   "execution_count": 10,
   "id": "d37888d5-dc1b-4c63-9205-6f3629a47b27",
   "metadata": {},
   "outputs": [
    {
     "name": "stdout",
     "output_type": "stream",
     "text": [
      "{'s': 4, 'h': 4, 'a': 3, 'b': 3, 'k': 2, 'c': 1, 'x': 1, 'j': 1, 'd': 1, 'name': 'Ram', 'address': 'blr'}\n",
      "4\n",
      "dict_keys(['s', 'h', 'a', 'b', 'k', 'c', 'x', 'j', 'd', 'name', 'address'])\n",
      "dict_values([4, 4, 3, 3, 2, 1, 1, 1, 1, 'Ram', 'blr'])\n"
     ]
    }
   ],
   "source": [
    "dict2 = dict1.copy()\n",
    "\n",
    "print(dict2)\n",
    "\n",
    "print(dict2.get('h'))\n",
    "\n",
    "print(dict2.keys())\n",
    "\n",
    "print(dict2.values())"
   ]
  },
  {
   "cell_type": "code",
   "execution_count": 1,
   "id": "d4cb2d4f-d4c0-4f65-9d65-991210669d83",
   "metadata": {},
   "outputs": [],
   "source": [
    "class MyClass(object) :\n",
    "    pass\n",
    "\n",
    "\n",
    "class Contact :\n",
    "    all_contacts = []\n",
    "    \n",
    "    def __init__(self, name, address) :\n",
    "        self.name = name\n",
    "        self.address = address\n",
    "        Contact.all_contacts.append(self)"
   ]
  },
  {
   "cell_type": "code",
   "execution_count": 1,
   "id": "d4167869-da9b-40da-bdef-22bef98a91c7",
   "metadata": {},
   "outputs": [],
   "source": [
    "class Employee :\n",
    "    empCount = 0\n",
    "    \n",
    "    def __init__(self, name, salary) :\n",
    "        self.name = name\n",
    "        self.salary = salary\n",
    "        Employee.empCount += 1 \n",
    "        \n",
    "    def displayCount(self) :\n",
    "        print(\"Total Employees %d \" % Employee.empCount)\n",
    "              \n",
    "    def displayEmployee(self) :\n",
    "        print(\"name :\", self.name, \" salary : \", self.salary)"
   ]
  },
  {
   "cell_type": "code",
   "execution_count": 2,
   "id": "24cc3303-3648-455d-a4a9-62039253e3a3",
   "metadata": {},
   "outputs": [
    {
     "name": "stdout",
     "output_type": "stream",
     "text": [
      "name : Ram  salary :  80000\n",
      "name : Raj  salary :  99000\n"
     ]
    }
   ],
   "source": [
    "emp1 = Employee(\"Ram\", 80000)\n",
    "emp2 = Employee(\"Raj\", 99000)\n",
    "\n",
    "emp1.displayEmployee()\n",
    "emp2.displayEmployee()\n",
    "\n"
   ]
  },
  {
   "cell_type": "code",
   "execution_count": 3,
   "id": "a11643af-6444-487e-b1f3-fbb2afab1d17",
   "metadata": {},
   "outputs": [
    {
     "name": "stdout",
     "output_type": "stream",
     "text": [
      "2\n",
      "Total Employees 2 \n",
      "Total Employees 2 \n"
     ]
    }
   ],
   "source": [
    "print(Employee.empCount)\n",
    "\n",
    "emp1.displayCount()\n",
    "\n",
    "emp2.displayCount()"
   ]
  },
  {
   "cell_type": "code",
   "execution_count": 4,
   "id": "7e235add-8e59-4b1b-a997-d210322a00c3",
   "metadata": {},
   "outputs": [],
   "source": [
    "emp1.age = 32\n"
   ]
  },
  {
   "cell_type": "code",
   "execution_count": 10,
   "id": "243b699f-4231-473a-b6b4-1bf4ec2e09ba",
   "metadata": {},
   "outputs": [
    {
     "name": "stdout",
     "output_type": "stream",
     "text": [
      "True\n",
      "100000\n",
      "100000\n"
     ]
    }
   ],
   "source": [
    "print(hasattr(emp1, \"salary\"))\n",
    "print(getattr(emp1, \"salary\"))\n",
    "setattr(emp1, 'salary', 100000)\n",
    "print(getattr(emp1, \"salary\"))\n",
    "delattr(emp1, 'salary')"
   ]
  },
  {
   "cell_type": "code",
   "execution_count": 11,
   "id": "b63f6f6a-54ea-40b9-b03b-3480fbb16afe",
   "metadata": {},
   "outputs": [
    {
     "name": "stdout",
     "output_type": "stream",
     "text": [
      "None\n"
     ]
    }
   ],
   "source": [
    "print(Employee.__doc__)"
   ]
  },
  {
   "cell_type": "code",
   "execution_count": 12,
   "id": "332f889a-9fbb-4e18-a271-436804db7d2d",
   "metadata": {},
   "outputs": [
    {
     "name": "stdout",
     "output_type": "stream",
     "text": [
      "Employee\n"
     ]
    }
   ],
   "source": [
    "print(Employee.__name__)"
   ]
  },
  {
   "cell_type": "code",
   "execution_count": 13,
   "id": "2f4685a9-3930-4371-8233-99101c966bef",
   "metadata": {},
   "outputs": [
    {
     "name": "stdout",
     "output_type": "stream",
     "text": [
      "__main__\n"
     ]
    }
   ],
   "source": [
    "print(Employee.__module__)"
   ]
  },
  {
   "cell_type": "code",
   "execution_count": 14,
   "id": "0f93d81f-afd9-4f3a-9bf3-c1fdbda6e6a2",
   "metadata": {},
   "outputs": [
    {
     "name": "stdout",
     "output_type": "stream",
     "text": [
      "(<class 'object'>,)\n"
     ]
    }
   ],
   "source": [
    "print(Employee.__bases__)"
   ]
  },
  {
   "cell_type": "code",
   "execution_count": 15,
   "id": "7a579c05-0a58-4a1a-824b-400a1f6641d2",
   "metadata": {},
   "outputs": [
    {
     "name": "stdout",
     "output_type": "stream",
     "text": [
      "{'__module__': '__main__', 'empCount': 2, '__init__': <function Employee.__init__ at 0x000001C074AE84C0>, 'displayCount': <function Employee.displayCount at 0x000001C074AE8550>, 'displayEmployee': <function Employee.displayEmployee at 0x000001C074AE85E0>, '__dict__': <attribute '__dict__' of 'Employee' objects>, '__weakref__': <attribute '__weakref__' of 'Employee' objects>, '__doc__': None}\n"
     ]
    }
   ],
   "source": [
    "print(Employee.__dict__)"
   ]
  },
  {
   "cell_type": "code",
   "execution_count": 16,
   "id": "563f2cae-d429-49c1-93e8-9da1e0788842",
   "metadata": {},
   "outputs": [
    {
     "name": "stdout",
     "output_type": "stream",
     "text": [
      "vector data : (10, 20)\n",
      "vector data : (30, 40)\n",
      "vector data : (40, 60)\n"
     ]
    }
   ],
   "source": [
    "class Vector :\n",
    "    def __init__(self, a, b) :\n",
    "        self.a = a\n",
    "        self.b = b\n",
    "        \n",
    "    def __str__(self) :\n",
    "        return 'vector data : (%d, %d)' % (self.a, self.b)\n",
    "    \n",
    "    def __add__(self, other) :\n",
    "        return Vector(self.a + other.a, self.b + other.b)\n",
    "    \n",
    "    \n",
    "v1 = Vector(10, 20)\n",
    "v2 = Vector(30, 40)\n",
    "\n",
    "print(v1)\n",
    "print(v2)\n",
    "\n",
    "\n",
    "print(v1 + v2)\n",
    "            "
   ]
  },
  {
   "cell_type": "code",
   "execution_count": 18,
   "id": "44200b29-9727-402d-9913-6f68fe0cdff2",
   "metadata": {},
   "outputs": [
    {
     "name": "stdout",
     "output_type": "stream",
     "text": [
      "1\n",
      "2\n"
     ]
    },
    {
     "ename": "AttributeError",
     "evalue": "'JustCounter' object has no attribute '__secretCount'",
     "output_type": "error",
     "traceback": [
      "\u001b[1;31m---------------------------------------------------------------------------\u001b[0m",
      "\u001b[1;31mAttributeError\u001b[0m                            Traceback (most recent call last)",
      "Input \u001b[1;32mIn [18]\u001b[0m, in \u001b[0;36m<cell line: 13>\u001b[1;34m()\u001b[0m\n\u001b[0;32m     10\u001b[0m counter\u001b[38;5;241m.\u001b[39mcount()\n\u001b[0;32m     11\u001b[0m counter\u001b[38;5;241m.\u001b[39mcount()\n\u001b[1;32m---> 13\u001b[0m \u001b[38;5;28mprint\u001b[39m(\u001b[43mcounter\u001b[49m\u001b[38;5;241;43m.\u001b[39;49m\u001b[43m__secretCount\u001b[49m)\n",
      "\u001b[1;31mAttributeError\u001b[0m: 'JustCounter' object has no attribute '__secretCount'"
     ]
    }
   ],
   "source": [
    "class JustCounter :\n",
    "    __secretCount = 0\n",
    "    \n",
    "    def count(self) :\n",
    "        self.__secretCount += 1\n",
    "        print(self.__secretCount)\n",
    "        \n",
    "counter = JustCounter()\n",
    "\n",
    "counter.count()\n",
    "counter.count()\n",
    "\n",
    "#print(counter.__secretCount)"
   ]
  },
  {
   "cell_type": "code",
   "execution_count": 19,
   "id": "c5499260-34b2-4774-be15-ef17c48435be",
   "metadata": {},
   "outputs": [
    {
     "name": "stdout",
     "output_type": "stream",
     "text": [
      "super x  : 300\n",
      "y :  400\n",
      "<__main__.SubClass object at 0x000001C075DF4C70>\n"
     ]
    }
   ],
   "source": [
    "class SuperClass :\n",
    "    def __init__(self, x) :\n",
    "        print(\"super x  :\" , x)\n",
    "        \n",
    "\n",
    "class SubClass(SuperClass) :\n",
    "    def __init__(self, x, y) :\n",
    "        SuperClass.__init__(self, x)\n",
    "        self.y = y\n",
    "        print(\"y : \", y)\n",
    "        \n",
    "        \n",
    "        \n",
    "s = SubClass(300, 400)\n",
    "print(s)"
   ]
  },
  {
   "cell_type": "code",
   "execution_count": 20,
   "id": "84cd0100-4122-4dda-a885-ac3bc16a93fc",
   "metadata": {},
   "outputs": [
    {
     "name": "stdout",
     "output_type": "stream",
     "text": [
      "super x  : 300\n",
      "y :  400\n",
      "Message from parent\n"
     ]
    }
   ],
   "source": [
    "class SuperClass :\n",
    "    def __init__(self, x) :\n",
    "        print(\"super x  :\" , x)\n",
    "        \n",
    "        \n",
    "    def display(self) :\n",
    "        print(\"Message from parent\")\n",
    "        \n",
    "\n",
    "class SubClass(SuperClass) :\n",
    "    def __init__(self, x, y) :\n",
    "        SuperClass.__init__(self, x)\n",
    "        self.y = y\n",
    "        print(\"y : \", y)\n",
    "        \n",
    " \n",
    "s = SubClass(300, 400)\n",
    "s.display()"
   ]
  },
  {
   "cell_type": "code",
   "execution_count": 21,
   "id": "fc0b2cf1-1d49-4492-844c-9c2d17e23f67",
   "metadata": {},
   "outputs": [],
   "source": [
    "class Contact :\n",
    "    all_contacts = []\n",
    "    \n",
    "    def __init__(self, name, email) :\n",
    "        self.name = name\n",
    "        self.email = email\n",
    "        Contact.all_contacts.append(self)\n",
    "        \n",
    "class AddressHolder :\n",
    "     def __init__(self, street, city, state, code) :\n",
    "        self.street = street\n",
    "        self.city = city\n",
    "        self.state = state\n",
    "        self.code = code \n",
    "\n",
    "class Friend(Contact, AddressHolder) :\n",
    "    def __init__(self, name, email, phone, street, city, state, code) :\n",
    "        Contact.__init__(name, email)\n",
    "        AddressHolder.__init__(street, city, state, code)\n",
    "        self.phone = phone "
   ]
  },
  {
   "cell_type": "code",
   "execution_count": 25,
   "id": "2e07ed96-6ce0-4959-8db4-8c712d71b576",
   "metadata": {},
   "outputs": [
    {
     "name": "stdout",
     "output_type": "stream",
     "text": [
      "foo.txt\n",
      "False\n",
      "wb\n"
     ]
    }
   ],
   "source": [
    "fo = open(\"foo.txt\", \"wb\")\n",
    "\n",
    "print(fo.name)\n",
    "print(fo.closed)\n",
    "print(fo.mode)"
   ]
  },
  {
   "cell_type": "code",
   "execution_count": 42,
   "id": "a635d93a-1617-4481-b6a3-3c6dd84006d2",
   "metadata": {},
   "outputs": [],
   "source": [
    "fo = open(\"foo.txt\", \"w\")\n",
    "\n",
    "fo.write(\"Python is a great Language\")\n",
    "\n",
    "fo.close()"
   ]
  },
  {
   "cell_type": "code",
   "execution_count": 31,
   "id": "78e3f7f3-a8c8-4be7-a5f8-61f30e06f19e",
   "metadata": {},
   "outputs": [
    {
     "name": "stdout",
     "output_type": "stream",
     "text": [
      "Python is \n",
      "Current file location  10\n",
      "Current file location  0\n",
      "Python is a great Language\n"
     ]
    }
   ],
   "source": [
    "fo = open(\"foo.txt\", \"r+\")\n",
    "\n",
    "str = fo.read(10)\n",
    "print(str)\n",
    "\n",
    "position = fo.tell()\n",
    "\n",
    "print(\"Current file location \" , position)\n",
    "\n",
    "position = fo.seek(0,0)\n",
    "\n",
    "print(\"Current file location \" , position)\n",
    "\n",
    "str = fo.read(100)\n",
    "print(str)\n",
    "\n",
    "fo.close()"
   ]
  },
  {
   "cell_type": "code",
   "execution_count": 32,
   "id": "c9ea0183-5831-424a-9c0f-44df5a8dd6d0",
   "metadata": {},
   "outputs": [],
   "source": [
    "import os\n",
    "\n",
    "\n",
    "os.rename(\"foo.txt\", \"test1.txt\")"
   ]
  },
  {
   "cell_type": "code",
   "execution_count": 33,
   "id": "9f8a9e55-602b-4aaa-9357-d98ac3fb29ac",
   "metadata": {},
   "outputs": [],
   "source": [
    "os.mkdir(\"test_folder\")"
   ]
  },
  {
   "cell_type": "code",
   "execution_count": 34,
   "id": "6cb2da51-305c-44d5-9c16-f716f415a748",
   "metadata": {},
   "outputs": [],
   "source": [
    "fo = open(\"./test_folder/foo.txt\", \"w\")\n",
    "\n",
    "fo.write(\"Python is a great Language\")\n",
    "\n",
    "fo.close()"
   ]
  },
  {
   "cell_type": "code",
   "execution_count": 36,
   "id": "4d4637f3-991c-4571-b69f-baeb558ae0f8",
   "metadata": {},
   "outputs": [],
   "source": [
    "os.remove(\"test1.txt\")"
   ]
  },
  {
   "cell_type": "code",
   "execution_count": 37,
   "id": "b73da371-5ae7-48e9-9a66-4aeda379b30b",
   "metadata": {},
   "outputs": [],
   "source": [
    "os.chdir(\"./test_folder\")\n"
   ]
  },
  {
   "cell_type": "code",
   "execution_count": 39,
   "id": "77362e73-ed6c-4546-a902-683641f4cbb9",
   "metadata": {},
   "outputs": [
    {
     "data": {
      "text/plain": [
       "'C:\\\\Users\\\\dr_vi\\\\CLASSROOM\\\\python-july2023\\\\test_folder'"
      ]
     },
     "execution_count": 39,
     "metadata": {},
     "output_type": "execute_result"
    }
   ],
   "source": [
    "os.getcwd()"
   ]
  },
  {
   "cell_type": "code",
   "execution_count": 40,
   "id": "09f3904d-dd44-4b98-998d-0524c429344c",
   "metadata": {},
   "outputs": [],
   "source": [
    "os.chdir(\"../\")"
   ]
  },
  {
   "cell_type": "code",
   "execution_count": 41,
   "id": "99a70e58-a251-4d06-a1ef-94554dcd2280",
   "metadata": {},
   "outputs": [
    {
     "data": {
      "text/plain": [
       "'C:\\\\Users\\\\dr_vi\\\\CLASSROOM\\\\python-july2023'"
      ]
     },
     "execution_count": 41,
     "metadata": {},
     "output_type": "execute_result"
    }
   ],
   "source": [
    "os.getcwd()"
   ]
  },
  {
   "cell_type": "code",
   "execution_count": 1,
   "id": "c70321e1-f647-47b7-a0c8-bcca27305d52",
   "metadata": {},
   "outputs": [
    {
     "name": "stdout",
     "output_type": "stream",
     "text": [
      "PYTHON IS A GREAT LANGUAGE\n",
      " \n",
      " IN PYTHON, THE DICT() FUNCTION IS USED TO CREATE A DICTIONARY, WHICH IS A COLLECTION OF KEY-VALUE PAIRS. A DICTIONARY IS A MUTABLE DATA STRUCTURE I.E. THE DATA IN THE DICTIONARY CAN BE MODIFIED. YOU CAN CREATE A DICTIONARY USING KEYWORD ARGUMENTS AS A PARAMETER WITH THE REQUIRED VALUES THAT WILL BE KEYS AND VALUES OF THE DICTIONARY. HEREÂ€™S AN EXAMPLE: "
     ]
    }
   ],
   "source": [
    "f = open(\"foo.txt\")\n",
    "\n",
    "while True :\n",
    "    line = f.readline()\n",
    "    if not line : break\n",
    "    \n",
    "    print(line.upper(), end =' ')\n",
    "    "
   ]
  },
  {
   "cell_type": "code",
   "execution_count": 2,
   "id": "c8d4c676-eaf3-4288-9607-36d063128987",
   "metadata": {},
   "outputs": [
    {
     "name": "stdout",
     "output_type": "stream",
     "text": [
      "Python is a great Language\n",
      " \n",
      " In Python, the dict() function is used to create a dictionary, which is a collection of key-value pairs. A dictionary is a mutable data structure i.e. the data in the dictionary can be modified. You can create a dictionary using keyword arguments as a parameter with the required values that will be keys and values of the dictionary. Hereâ€™s an example: "
     ]
    }
   ],
   "source": [
    "f = open(\"foo.txt\")\n",
    "\n",
    "while True :\n",
    "    line = f.readline()\n",
    "    if not line : break\n",
    "    \n",
    "    print(line, end =' ')\n",
    "    "
   ]
  },
  {
   "cell_type": "code",
   "execution_count": 3,
   "id": "14b4ed10-5f4b-4510-b6ce-710fb02066be",
   "metadata": {},
   "outputs": [
    {
     "name": "stdout",
     "output_type": "stream",
     "text": [
      "['Python is a great Language\\n', '\\n', 'In Python, the dict() function is used to create a dictionary, which is a collection of key-value pairs. A dictionary is a mutable data structure i.e. the data in the dictionary can be modified. You can create a dictionary using keyword arguments as a parameter with the required values that will be keys and values of the dictionary. Hereâ€™s an example:']\n"
     ]
    }
   ],
   "source": [
    "print(list(open(\"foo.txt\")))"
   ]
  },
  {
   "cell_type": "code",
   "execution_count": 4,
   "id": "8cfefe69-dbe2-4664-9e49-d884fcba6aa0",
   "metadata": {},
   "outputs": [
    {
     "ename": "ValueError",
     "evalue": "not enough values to unpack (expected 4, got 3)",
     "output_type": "error",
     "traceback": [
      "\u001b[1;31m---------------------------------------------------------------------------\u001b[0m",
      "\u001b[1;31mValueError\u001b[0m                                Traceback (most recent call last)",
      "Input \u001b[1;32mIn [4]\u001b[0m, in \u001b[0;36m<cell line: 1>\u001b[1;34m()\u001b[0m\n\u001b[1;32m----> 1\u001b[0m a, b, c, d \u001b[38;5;241m=\u001b[39m \u001b[38;5;28mopen\u001b[39m(\u001b[38;5;124m\"\u001b[39m\u001b[38;5;124mfoo.txt\u001b[39m\u001b[38;5;124m\"\u001b[39m)\n\u001b[0;32m      3\u001b[0m \u001b[38;5;28mprint\u001b[39m(a)\n\u001b[0;32m      4\u001b[0m \u001b[38;5;28mprint\u001b[39m(b)\n",
      "\u001b[1;31mValueError\u001b[0m: not enough values to unpack (expected 4, got 3)"
     ]
    }
   ],
   "source": [
    "a, b, c, d = open(\"foo.txt\")\n",
    "\n",
    "print(a)\n",
    "print(b)"
   ]
  },
  {
   "cell_type": "code",
   "execution_count": 6,
   "id": "c8789b2b-0fc8-4711-bc78-cfddd981b00e",
   "metadata": {},
   "outputs": [
    {
     "name": "stdout",
     "output_type": "stream",
     "text": [
      "Column names are : Date, Open, High, Low, Close, Volume\n",
      "Processed 1 lines.\n",
      "\t 7-Dec-16 work in the 109.26 department, and was born in 111.19.\n",
      "Processed 2 lines.\n",
      "\t 6-Dec-16 work in the 109.50 department, and was born in 110.36.\n",
      "Processed 3 lines.\n",
      "\t 5-Dec-16 work in the 110.00 department, and was born in 110.03.\n",
      "Processed 4 lines.\n",
      "\t 2-Dec-16 work in the 109.17 department, and was born in 110.09.\n",
      "Processed 5 lines.\n",
      "\t 1-Dec-16 work in the 110.36 department, and was born in 110.94.\n",
      "Processed 6 lines.\n",
      "\t 30-Nov-16 work in the 111.60 department, and was born in 112.20.\n",
      "Processed 7 lines.\n",
      "\t 29-Nov-16 work in the 110.78 department, and was born in 112.03.\n",
      "Processed 8 lines.\n",
      "\t 28-Nov-16 work in the 111.43 department, and was born in 112.46.\n",
      "Processed 9 lines.\n",
      "\t 25-Nov-16 work in the 111.47 department, and was born in 111.87.\n",
      "Processed 10 lines.\n",
      "\t 23-Nov-16 work in the 111.36 department, and was born in 111.51.\n",
      "Processed 11 lines.\n",
      "\t 22-Nov-16 work in the 111.95 department, and was born in 112.42.\n",
      "Processed 12 lines.\n",
      "\t 21-Nov-16 work in the 110.12 department, and was born in 111.99.\n",
      "Processed 13 lines.\n",
      "\t 18-Nov-16 work in the 109.72 department, and was born in 110.54.\n",
      "Processed 14 lines.\n",
      "\t 17-Nov-16 work in the 109.81 department, and was born in 110.35.\n",
      "Processed 15 lines.\n",
      "\t 16-Nov-16 work in the 106.70 department, and was born in 110.23.\n",
      "Processed 16 lines.\n",
      "\t 15-Nov-16 work in the 106.57 department, and was born in 107.68.\n",
      "Processed 17 lines.\n",
      "\t 14-Nov-16 work in the 107.71 department, and was born in 107.81.\n",
      "Processed 18 lines.\n",
      "\t 11-Nov-16 work in the 107.12 department, and was born in 108.87.\n",
      "Processed 19 lines.\n",
      "\t 10-Nov-16 work in the 111.09 department, and was born in 111.09.\n",
      "Processed 20 lines.\n",
      "\t 9-Nov-16 work in the 109.88 department, and was born in 111.32.\n",
      "Processed 21 lines.\n",
      "\t 8-Nov-16 work in the 110.31 department, and was born in 111.72.\n",
      "Processed 22 lines.\n",
      "\t 7-Nov-16 work in the 110.08 department, and was born in 110.51.\n",
      "Processed 23 lines.\n",
      "\t 4-Nov-16 work in the 108.53 department, and was born in 110.25.\n",
      "Processed 24 lines.\n",
      "\t 3-Nov-16 work in the 110.98 department, and was born in 111.46.\n",
      "Processed 25 lines.\n",
      "\t 2-Nov-16 work in the 111.40 department, and was born in 112.35.\n",
      "Processed 26 lines.\n",
      "\t 1-Nov-16 work in the 113.46 department, and was born in 113.77.\n",
      "Processed 27 lines.\n",
      "\t 31-Oct-16 work in the 113.65 department, and was born in 114.23.\n",
      "Processed 28 lines.\n",
      "\t 28-Oct-16 work in the 113.87 department, and was born in 115.21.\n",
      "Processed 29 lines.\n",
      "\t 27-Oct-16 work in the 115.39 department, and was born in 115.86.\n",
      "Processed 30 lines.\n",
      "\t 26-Oct-16 work in the 114.31 department, and was born in 115.70.\n",
      "Processed 31 lines.\n",
      "\t 25-Oct-16 work in the 117.95 department, and was born in 118.36.\n",
      "Processed 32 lines.\n",
      "\t 24-Oct-16 work in the 117.10 department, and was born in 117.74.\n",
      "Processed 33 lines.\n",
      "\t 21-Oct-16 work in the 116.81 department, and was born in 116.91.\n",
      "Processed 34 lines.\n",
      "\t 20-Oct-16 work in the 116.86 department, and was born in 117.38.\n",
      "Processed 35 lines.\n",
      "\t 19-Oct-16 work in the 117.25 department, and was born in 117.76.\n",
      "Processed 36 lines.\n",
      "\t 18-Oct-16 work in the 118.18 department, and was born in 118.21.\n",
      "Processed 37 lines.\n",
      "\t 17-Oct-16 work in the 117.33 department, and was born in 117.84.\n",
      "Processed 38 lines.\n",
      "\t 14-Oct-16 work in the 117.88 department, and was born in 118.17.\n",
      "Processed 39 lines.\n",
      "\t 13-Oct-16 work in the 116.79 department, and was born in 117.44.\n",
      "Processed 40 lines.\n",
      "\t 12-Oct-16 work in the 117.35 department, and was born in 117.98.\n",
      "Processed 41 lines.\n",
      "\t 11-Oct-16 work in the 117.70 department, and was born in 118.69.\n",
      "Processed 42 lines.\n",
      "\t 10-Oct-16 work in the 115.02 department, and was born in 116.75.\n",
      "Processed 43 lines.\n",
      "\t 7-Oct-16 work in the 114.31 department, and was born in 114.56.\n",
      "Processed 44 lines.\n",
      "\t 6-Oct-16 work in the 113.70 department, and was born in 114.34.\n",
      "Processed 45 lines.\n",
      "\t 5-Oct-16 work in the 113.40 department, and was born in 113.66.\n",
      "Processed 46 lines.\n",
      "\t 4-Oct-16 work in the 113.06 department, and was born in 114.31.\n",
      "Processed 47 lines.\n",
      "\t 3-Oct-16 work in the 112.71 department, and was born in 113.05.\n",
      "Processed 48 lines.\n",
      "\t 30-Sep-16 work in the 112.46 department, and was born in 113.37.\n",
      "Processed 49 lines.\n",
      "\t 29-Sep-16 work in the 113.16 department, and was born in 113.80.\n",
      "Processed 50 lines.\n",
      "\t 28-Sep-16 work in the 113.69 department, and was born in 114.64.\n",
      "Processed 51 lines.\n",
      "\t 27-Sep-16 work in the 113.00 department, and was born in 113.18.\n",
      "Processed 52 lines.\n",
      "\t 26-Sep-16 work in the 111.64 department, and was born in 113.39.\n",
      "Processed 53 lines.\n",
      "\t 23-Sep-16 work in the 114.42 department, and was born in 114.79.\n",
      "Processed 54 lines.\n",
      "\t 22-Sep-16 work in the 114.35 department, and was born in 114.94.\n",
      "Processed 55 lines.\n",
      "\t 21-Sep-16 work in the 113.85 department, and was born in 113.99.\n",
      "Processed 56 lines.\n",
      "\t 20-Sep-16 work in the 113.05 department, and was born in 114.12.\n",
      "Processed 57 lines.\n",
      "\t 19-Sep-16 work in the 115.19 department, and was born in 116.18.\n",
      "Processed 58 lines.\n",
      "\t 16-Sep-16 work in the 115.12 department, and was born in 116.13.\n",
      "Processed 59 lines.\n",
      "\t 15-Sep-16 work in the 113.86 department, and was born in 115.73.\n",
      "Processed 60 lines.\n",
      "\t 14-Sep-16 work in the 108.73 department, and was born in 113.03.\n",
      "Processed 61 lines.\n",
      "\t 13-Sep-16 work in the 107.51 department, and was born in 108.79.\n",
      "Processed 62 lines.\n",
      "\t 12-Sep-16 work in the 102.65 department, and was born in 105.72.\n",
      "Processed 63 lines.\n",
      "\t 9-Sep-16 work in the 104.64 department, and was born in 105.72.\n",
      "Processed 64 lines.\n",
      "\t 8-Sep-16 work in the 107.25 department, and was born in 107.27.\n",
      "Processed 65 lines.\n",
      "\t 7-Sep-16 work in the 107.83 department, and was born in 108.76.\n",
      "Processed 66 lines.\n",
      "\t 6-Sep-16 work in the 107.90 department, and was born in 108.30.\n",
      "Processed 67 lines.\n",
      "\t 2-Sep-16 work in the 107.70 department, and was born in 108.00.\n",
      "Processed 68 lines.\n",
      "\t 1-Sep-16 work in the 106.14 department, and was born in 106.80.\n",
      "Processed 69 lines.\n",
      "\t 31-Aug-16 work in the 105.66 department, and was born in 106.57.\n",
      "Processed 70 lines.\n",
      "\t 30-Aug-16 work in the 105.80 department, and was born in 106.50.\n",
      "Processed 71 lines.\n",
      "\t 29-Aug-16 work in the 106.62 department, and was born in 107.44.\n",
      "Processed 72 lines.\n",
      "\t 26-Aug-16 work in the 107.41 department, and was born in 107.95.\n",
      "Processed 73 lines.\n",
      "\t 25-Aug-16 work in the 107.39 department, and was born in 107.88.\n",
      "Processed 74 lines.\n",
      "\t 24-Aug-16 work in the 108.56 department, and was born in 108.75.\n",
      "Processed 75 lines.\n",
      "\t 23-Aug-16 work in the 108.59 department, and was born in 109.32.\n",
      "Processed 76 lines.\n",
      "\t 22-Aug-16 work in the 108.86 department, and was born in 109.10.\n",
      "Processed 77 lines.\n",
      "\t 19-Aug-16 work in the 108.77 department, and was born in 109.69.\n",
      "Processed 78 lines.\n",
      "\t 18-Aug-16 work in the 109.23 department, and was born in 109.60.\n",
      "Processed 79 lines.\n",
      "\t 17-Aug-16 work in the 109.10 department, and was born in 109.37.\n",
      "Processed 80 lines.\n",
      "\t 16-Aug-16 work in the 109.63 department, and was born in 110.23.\n",
      "Processed 81 lines.\n",
      "\t 15-Aug-16 work in the 108.14 department, and was born in 109.54.\n",
      "Processed 82 lines.\n",
      "\t 12-Aug-16 work in the 107.78 department, and was born in 108.44.\n",
      "Processed 83 lines.\n",
      "\t 11-Aug-16 work in the 108.52 department, and was born in 108.93.\n",
      "Processed 84 lines.\n",
      "\t 10-Aug-16 work in the 108.71 department, and was born in 108.90.\n",
      "Processed 85 lines.\n",
      "\t 9-Aug-16 work in the 108.23 department, and was born in 108.94.\n",
      "Processed 86 lines.\n",
      "\t 8-Aug-16 work in the 107.52 department, and was born in 108.37.\n",
      "Processed 87 lines.\n",
      "\t 5-Aug-16 work in the 106.27 department, and was born in 107.65.\n",
      "Processed 88 lines.\n",
      "\t 4-Aug-16 work in the 105.58 department, and was born in 106.00.\n",
      "Processed 89 lines.\n",
      "\t 3-Aug-16 work in the 104.81 department, and was born in 105.84.\n",
      "Processed 90 lines.\n",
      "\t 2-Aug-16 work in the 106.05 department, and was born in 106.07.\n",
      "Processed 91 lines.\n",
      "\t 1-Aug-16 work in the 104.41 department, and was born in 106.15.\n",
      "Processed 92 lines.\n",
      "\t 29-Jul-16 work in the 104.19 department, and was born in 104.55.\n",
      "Processed 93 lines.\n",
      "\t 28-Jul-16 work in the 102.83 department, and was born in 104.45.\n",
      "Processed 94 lines.\n",
      "\t 27-Jul-16 work in the 104.26 department, and was born in 104.35.\n",
      "Processed 95 lines.\n",
      "\t 26-Jul-16 work in the 96.82 department, and was born in 97.97.\n",
      "Processed 96 lines.\n",
      "\t 25-Jul-16 work in the 98.25 department, and was born in 98.84.\n",
      "Processed 97 lines.\n",
      "\t 22-Jul-16 work in the 99.26 department, and was born in 99.30.\n",
      "Processed 98 lines.\n",
      "\t 21-Jul-16 work in the 99.83 department, and was born in 101.00.\n",
      "Processed 99 lines.\n",
      "\t 20-Jul-16 work in the 100.00 department, and was born in 100.46.\n",
      "Processed 100 lines.\n",
      "\t 19-Jul-16 work in the 99.56 department, and was born in 100.00.\n",
      "Processed 101 lines.\n",
      "\t 18-Jul-16 work in the 98.70 department, and was born in 100.13.\n",
      "Processed 102 lines.\n",
      "\t 15-Jul-16 work in the 98.92 department, and was born in 99.30.\n",
      "Processed 103 lines.\n",
      "\t 14-Jul-16 work in the 97.39 department, and was born in 98.99.\n",
      "Processed 104 lines.\n",
      "\t 13-Jul-16 work in the 97.41 department, and was born in 97.67.\n",
      "Processed 105 lines.\n",
      "\t 12-Jul-16 work in the 97.17 department, and was born in 97.70.\n",
      "Processed 106 lines.\n",
      "\t 11-Jul-16 work in the 96.75 department, and was born in 97.65.\n",
      "Processed 107 lines.\n",
      "\t 8-Jul-16 work in the 96.49 department, and was born in 96.89.\n",
      "Processed 108 lines.\n",
      "\t 7-Jul-16 work in the 95.70 department, and was born in 96.50.\n",
      "Processed 109 lines.\n",
      "\t 6-Jul-16 work in the 94.60 department, and was born in 95.66.\n",
      "Processed 110 lines.\n",
      "\t 5-Jul-16 work in the 95.39 department, and was born in 95.40.\n",
      "Processed 111 lines.\n",
      "\t 1-Jul-16 work in the 95.49 department, and was born in 96.46.\n",
      "Processed 112 lines.\n",
      "\t 30-Jun-16 work in the 94.44 department, and was born in 95.77.\n",
      "Processed 113 lines.\n",
      "\t 29-Jun-16 work in the 93.97 department, and was born in 94.55.\n",
      "Processed 114 lines.\n",
      "\t 28-Jun-16 work in the 92.90 department, and was born in 93.66.\n",
      "Processed 115 lines.\n",
      "\t 27-Jun-16 work in the 93.00 department, and was born in 93.05.\n",
      "Processed 116 lines.\n",
      "\t 24-Jun-16 work in the 92.91 department, and was born in 94.66.\n",
      "Processed 117 lines.\n",
      "\t 23-Jun-16 work in the 95.94 department, and was born in 96.29.\n",
      "Processed 118 lines.\n",
      "\t 22-Jun-16 work in the 96.25 department, and was born in 96.89.\n",
      "Processed 119 lines.\n",
      "\t 21-Jun-16 work in the 94.94 department, and was born in 96.35.\n",
      "Processed 120 lines.\n",
      "\t 20-Jun-16 work in the 96.00 department, and was born in 96.57.\n",
      "Processed 121 lines.\n",
      "\t 17-Jun-16 work in the 96.62 department, and was born in 96.65.\n",
      "Processed 122 lines.\n",
      "\t 16-Jun-16 work in the 96.45 department, and was born in 97.75.\n",
      "Processed 123 lines.\n",
      "\t 15-Jun-16 work in the 97.82 department, and was born in 98.41.\n",
      "Processed 124 lines.\n",
      "\t 14-Jun-16 work in the 97.32 department, and was born in 98.48.\n",
      "Processed 125 lines.\n",
      "\t 13-Jun-16 work in the 98.69 department, and was born in 99.12.\n",
      "Processed 126 lines.\n",
      "\t 10-Jun-16 work in the 98.53 department, and was born in 99.35.\n",
      "Processed 127 lines.\n",
      "\t 9-Jun-16 work in the 98.50 department, and was born in 99.99.\n",
      "Processed 128 lines.\n",
      "\t 8-Jun-16 work in the 99.02 department, and was born in 99.56.\n",
      "Processed 129 lines.\n",
      "\t 7-Jun-16 work in the 99.25 department, and was born in 99.87.\n",
      "Processed 130 lines.\n",
      "\t 6-Jun-16 work in the 97.99 department, and was born in 101.89.\n",
      "Processed 131 lines.\n",
      "\t 3-Jun-16 work in the 97.79 department, and was born in 98.27.\n",
      "Processed 132 lines.\n",
      "\t 2-Jun-16 work in the 97.60 department, and was born in 97.84.\n",
      "Processed 133 lines.\n",
      "\t 1-Jun-16 work in the 99.02 department, and was born in 99.54.\n",
      "Processed 134 lines.\n",
      "\t 31-May-16 work in the 99.60 department, and was born in 100.40.\n",
      "Processed 135 lines.\n",
      "\t 27-May-16 work in the 99.44 department, and was born in 100.47.\n",
      "Processed 136 lines.\n",
      "\t 26-May-16 work in the 99.68 department, and was born in 100.73.\n",
      "Processed 137 lines.\n",
      "\t 25-May-16 work in the 98.67 department, and was born in 99.74.\n",
      "Processed 138 lines.\n",
      "\t 24-May-16 work in the 97.22 department, and was born in 98.09.\n",
      "Processed 139 lines.\n",
      "\t 23-May-16 work in the 95.87 department, and was born in 97.19.\n",
      "Processed 140 lines.\n",
      "\t 20-May-16 work in the 94.64 department, and was born in 95.43.\n",
      "Processed 141 lines.\n",
      "\t 19-May-16 work in the 94.64 department, and was born in 94.64.\n",
      "Processed 142 lines.\n",
      "\t 18-May-16 work in the 94.16 department, and was born in 95.21.\n",
      "Processed 143 lines.\n",
      "\t 17-May-16 work in the 94.55 department, and was born in 94.70.\n",
      "Processed 144 lines.\n",
      "\t 16-May-16 work in the 92.39 department, and was born in 94.39.\n",
      "Processed 145 lines.\n",
      "\t 13-May-16 work in the 90.00 department, and was born in 91.67.\n",
      "Processed 146 lines.\n",
      "\t 12-May-16 work in the 92.72 department, and was born in 92.78.\n",
      "Processed 147 lines.\n",
      "\t 11-May-16 work in the 93.48 department, and was born in 93.57.\n",
      "Processed 148 lines.\n",
      "\t 10-May-16 work in the 93.33 department, and was born in 93.57.\n",
      "Processed 149 lines.\n",
      "\t 9-May-16 work in the 93.00 department, and was born in 93.77.\n",
      "Processed 150 lines.\n",
      "\t 6-May-16 work in the 93.37 department, and was born in 93.45.\n",
      "Processed 151 lines.\n",
      "\t 5-May-16 work in the 94.00 department, and was born in 94.07.\n",
      "Processed 152 lines.\n",
      "\t 4-May-16 work in the 95.20 department, and was born in 95.90.\n",
      "Processed 153 lines.\n",
      "\t 3-May-16 work in the 94.20 department, and was born in 95.74.\n",
      "Processed 154 lines.\n",
      "\t 2-May-16 work in the 93.96 department, and was born in 94.08.\n",
      "Processed 155 lines.\n",
      "\t 29-Apr-16 work in the 93.99 department, and was born in 94.72.\n",
      "Processed 156 lines.\n",
      "\t 28-Apr-16 work in the 97.61 department, and was born in 97.88.\n",
      "Processed 157 lines.\n",
      "\t 27-Apr-16 work in the 96.00 department, and was born in 98.71.\n",
      "Processed 158 lines.\n",
      "\t 26-Apr-16 work in the 103.91 department, and was born in 105.30.\n",
      "Processed 159 lines.\n",
      "\t 25-Apr-16 work in the 105.00 department, and was born in 105.65.\n",
      "Processed 160 lines.\n",
      "\t 22-Apr-16 work in the 105.01 department, and was born in 106.48.\n",
      "Processed 161 lines.\n",
      "\t 21-Apr-16 work in the 106.93 department, and was born in 106.93.\n",
      "Processed 162 lines.\n",
      "\t 20-Apr-16 work in the 106.64 department, and was born in 108.09.\n",
      "Processed 163 lines.\n",
      "\t 19-Apr-16 work in the 107.88 department, and was born in 108.00.\n",
      "Processed 164 lines.\n",
      "\t 18-Apr-16 work in the 108.89 department, and was born in 108.95.\n",
      "Processed 165 lines.\n",
      "\t 15-Apr-16 work in the 112.11 department, and was born in 112.30.\n",
      "Processed 166 lines.\n",
      "\t 14-Apr-16 work in the 111.62 department, and was born in 112.39.\n",
      "Processed 167 lines.\n",
      "\t 13-Apr-16 work in the 110.80 department, and was born in 112.34.\n",
      "Processed 168 lines.\n",
      "\t 12-Apr-16 work in the 109.34 department, and was born in 110.50.\n",
      "Processed 169 lines.\n",
      "\t 11-Apr-16 work in the 108.97 department, and was born in 110.61.\n",
      "Processed 170 lines.\n",
      "\t 8-Apr-16 work in the 108.91 department, and was born in 109.77.\n",
      "Processed 171 lines.\n",
      "\t 7-Apr-16 work in the 109.95 department, and was born in 110.42.\n",
      "Processed 172 lines.\n",
      "\t 6-Apr-16 work in the 110.23 department, and was born in 110.98.\n",
      "Processed 173 lines.\n",
      "\t 5-Apr-16 work in the 109.51 department, and was born in 110.73.\n",
      "Processed 174 lines.\n",
      "\t 4-Apr-16 work in the 110.42 department, and was born in 112.19.\n",
      "Processed 175 lines.\n",
      "\t 1-Apr-16 work in the 108.78 department, and was born in 110.00.\n",
      "Processed 176 lines.\n",
      "\t 31-Mar-16 work in the 109.72 department, and was born in 109.90.\n",
      "Processed 177 lines.\n",
      "\t 30-Mar-16 work in the 108.65 department, and was born in 110.42.\n",
      "Processed 178 lines.\n",
      "\t 29-Mar-16 work in the 104.89 department, and was born in 107.79.\n",
      "Processed 179 lines.\n",
      "\t 28-Mar-16 work in the 106.00 department, and was born in 106.19.\n",
      "Processed 180 lines.\n",
      "\t 24-Mar-16 work in the 105.47 department, and was born in 106.25.\n",
      "Processed 181 lines.\n",
      "\t 23-Mar-16 work in the 106.48 department, and was born in 107.07.\n",
      "Processed 182 lines.\n",
      "\t 22-Mar-16 work in the 105.25 department, and was born in 107.29.\n",
      "Processed 183 lines.\n",
      "\t 21-Mar-16 work in the 105.93 department, and was born in 107.65.\n",
      "Processed 184 lines.\n",
      "\t 18-Mar-16 work in the 106.34 department, and was born in 106.50.\n",
      "Processed 185 lines.\n",
      "\t 17-Mar-16 work in the 105.52 department, and was born in 106.47.\n",
      "Processed 186 lines.\n",
      "\t 16-Mar-16 work in the 104.61 department, and was born in 106.31.\n",
      "Processed 187 lines.\n",
      "\t 15-Mar-16 work in the 103.96 department, and was born in 105.18.\n",
      "Processed 188 lines.\n",
      "\t 14-Mar-16 work in the 101.91 department, and was born in 102.91.\n",
      "Processed 189 lines.\n",
      "\t 11-Mar-16 work in the 102.24 department, and was born in 102.28.\n",
      "Processed 190 lines.\n",
      "\t 10-Mar-16 work in the 101.41 department, and was born in 102.24.\n",
      "Processed 191 lines.\n",
      "\t 9-Mar-16 work in the 101.31 department, and was born in 101.58.\n",
      "Processed 192 lines.\n",
      "\t 8-Mar-16 work in the 100.78 department, and was born in 101.76.\n",
      "Processed 193 lines.\n",
      "\t 7-Mar-16 work in the 102.39 department, and was born in 102.83.\n",
      "Processed 194 lines.\n",
      "\t 4-Mar-16 work in the 102.37 department, and was born in 103.75.\n",
      "Processed 195 lines.\n",
      "\t 3-Mar-16 work in the 100.58 department, and was born in 101.71.\n",
      "Processed 196 lines.\n",
      "\t 2-Mar-16 work in the 100.51 department, and was born in 100.89.\n",
      "Processed 197 lines.\n",
      "\t 1-Mar-16 work in the 97.65 department, and was born in 100.77.\n",
      "Processed 198 lines.\n",
      "\t 29-Feb-16 work in the 96.86 department, and was born in 98.23.\n",
      "Processed 199 lines.\n",
      "\t 26-Feb-16 work in the 97.20 department, and was born in 98.02.\n",
      "Processed 200 lines.\n",
      "\t 25-Feb-16 work in the 96.05 department, and was born in 96.76.\n",
      "Processed 201 lines.\n",
      "\t 24-Feb-16 work in the 93.98 department, and was born in 96.38.\n",
      "Processed 202 lines.\n",
      "\t 23-Feb-16 work in the 96.40 department, and was born in 96.50.\n",
      "Processed 203 lines.\n",
      "\t 22-Feb-16 work in the 96.31 department, and was born in 96.90.\n",
      "Processed 204 lines.\n",
      "\t 19-Feb-16 work in the 96.00 department, and was born in 96.76.\n",
      "Processed 205 lines.\n",
      "\t 18-Feb-16 work in the 98.84 department, and was born in 98.89.\n",
      "Processed 206 lines.\n",
      "\t 17-Feb-16 work in the 96.67 department, and was born in 98.21.\n",
      "Processed 207 lines.\n",
      "\t 16-Feb-16 work in the 95.02 department, and was born in 96.85.\n",
      "Processed 208 lines.\n",
      "\t 12-Feb-16 work in the 94.19 department, and was born in 94.50.\n",
      "Processed 209 lines.\n",
      "\t 11-Feb-16 work in the 93.79 department, and was born in 94.72.\n",
      "Processed 210 lines.\n",
      "\t 10-Feb-16 work in the 95.92 department, and was born in 96.35.\n",
      "Processed 211 lines.\n",
      "\t 9-Feb-16 work in the 94.29 department, and was born in 95.94.\n",
      "Processed 212 lines.\n",
      "\t 8-Feb-16 work in the 93.13 department, and was born in 95.70.\n",
      "Processed 213 lines.\n",
      "\t 5-Feb-16 work in the 96.52 department, and was born in 96.92.\n",
      "Processed 214 lines.\n",
      "\t 4-Feb-16 work in the 95.86 department, and was born in 97.33.\n",
      "Processed 215 lines.\n",
      "\t 3-Feb-16 work in the 95.00 department, and was born in 96.84.\n",
      "Processed 216 lines.\n",
      "\t 2-Feb-16 work in the 95.42 department, and was born in 96.04.\n",
      "Processed 217 lines.\n",
      "\t 1-Feb-16 work in the 96.47 department, and was born in 96.71.\n",
      "Processed 218 lines.\n",
      "\t 29-Jan-16 work in the 94.79 department, and was born in 97.34.\n",
      "Processed 219 lines.\n",
      "\t 28-Jan-16 work in the 93.79 department, and was born in 94.52.\n",
      "Processed 220 lines.\n",
      "\t 27-Jan-16 work in the 96.04 department, and was born in 96.63.\n",
      "Processed 221 lines.\n",
      "\t 26-Jan-16 work in the 99.93 department, and was born in 100.88.\n",
      "Processed 222 lines.\n",
      "\t 25-Jan-16 work in the 101.52 department, and was born in 101.53.\n",
      "Processed 223 lines.\n",
      "\t 22-Jan-16 work in the 98.63 department, and was born in 101.46.\n",
      "Processed 224 lines.\n",
      "\t 21-Jan-16 work in the 97.06 department, and was born in 97.88.\n",
      "Processed 225 lines.\n",
      "\t 20-Jan-16 work in the 95.10 department, and was born in 98.19.\n",
      "Processed 226 lines.\n",
      "\t 19-Jan-16 work in the 98.41 department, and was born in 98.65.\n",
      "Processed 227 lines.\n",
      "\t 15-Jan-16 work in the 96.20 department, and was born in 97.71.\n",
      "Processed 228 lines.\n",
      "\t 14-Jan-16 work in the 97.96 department, and was born in 100.48.\n",
      "Processed 229 lines.\n",
      "\t 13-Jan-16 work in the 100.32 department, and was born in 101.19.\n",
      "Processed 230 lines.\n",
      "\t 12-Jan-16 work in the 100.55 department, and was born in 100.69.\n",
      "Processed 231 lines.\n",
      "\t 11-Jan-16 work in the 98.97 department, and was born in 99.06.\n",
      "Processed 232 lines.\n",
      "\t 8-Jan-16 work in the 98.55 department, and was born in 99.11.\n",
      "Processed 233 lines.\n",
      "\t 7-Jan-16 work in the 98.68 department, and was born in 100.13.\n",
      "Processed 234 lines.\n",
      "\t 6-Jan-16 work in the 100.56 department, and was born in 102.37.\n",
      "Processed 235 lines.\n",
      "\t 5-Jan-16 work in the 105.75 department, and was born in 105.85.\n",
      "Processed 236 lines.\n",
      "\t 4-Jan-16 work in the 102.61 department, and was born in 105.37.\n",
      "Processed 237 lines.\n",
      "\t 31-Dec-15 work in the 107.01 department, and was born in 107.03.\n",
      "Processed 238 lines.\n",
      "\t 30-Dec-15 work in the 108.58 department, and was born in 108.70.\n",
      "Processed 239 lines.\n",
      "\t 29-Dec-15 work in the 106.96 department, and was born in 109.43.\n",
      "Processed 240 lines.\n",
      "\t 28-Dec-15 work in the 107.59 department, and was born in 107.69.\n",
      "Processed 241 lines.\n",
      "\t 24-Dec-15 work in the 109.00 department, and was born in 109.00.\n",
      "Processed 242 lines.\n",
      "\t 23-Dec-15 work in the 107.27 department, and was born in 108.85.\n",
      "Processed 243 lines.\n",
      "\t 22-Dec-15 work in the 107.40 department, and was born in 107.72.\n",
      "Processed 244 lines.\n",
      "\t 21-Dec-15 work in the 107.28 department, and was born in 107.37.\n",
      "Processed 245 lines.\n",
      "\t 18-Dec-15 work in the 108.91 department, and was born in 109.52.\n",
      "Processed 246 lines.\n",
      "\t 17-Dec-15 work in the 112.02 department, and was born in 112.25.\n",
      "Processed 247 lines.\n",
      "\t 16-Dec-15 work in the 111.07 department, and was born in 111.99.\n",
      "Processed 248 lines.\n",
      "\t 15-Dec-15 work in the 111.94 department, and was born in 112.80.\n",
      "Processed 249 lines.\n",
      "\t 14-Dec-15 work in the 112.18 department, and was born in 112.68.\n",
      "Processed 250 lines.\n",
      "\t 11-Dec-15 work in the 115.19 department, and was born in 115.39.\n",
      "Processed 251 lines.\n",
      "\t 10-Dec-15 work in the 116.04 department, and was born in 116.94.\n",
      "Processed 252 lines.\n"
     ]
    }
   ],
   "source": [
    "import csv\n",
    "\n",
    "with open(\"aapl.csv\") as csv_file :\n",
    "    csv_reader = csv.reader(csv_file, delimiter=\",\")\n",
    "    line_count = 0\n",
    "    for row in csv_reader :\n",
    "        if line_count  == 0 :\n",
    "            print(f'Column names are : {\", \".join(row)}')\n",
    "            line_count += 1\n",
    "        else :\n",
    "            print(f'\\t {row[0]} work in the { row[1]} department, and was born in {row[2]}.')\n",
    "            line_count += 1\n",
    "        print(f'Processed {line_count} lines.')"
   ]
  },
  {
   "cell_type": "code",
   "execution_count": null,
   "id": "8c16d63b-72dc-487e-8cfe-b19fda5373ee",
   "metadata": {},
   "outputs": [],
   "source": []
  }
 ],
 "metadata": {
  "kernelspec": {
   "display_name": "Python 3 (ipykernel)",
   "language": "python",
   "name": "python3"
  },
  "language_info": {
   "codemirror_mode": {
    "name": "ipython",
    "version": 3
   },
   "file_extension": ".py",
   "mimetype": "text/x-python",
   "name": "python",
   "nbconvert_exporter": "python",
   "pygments_lexer": "ipython3",
   "version": "3.9.12"
  }
 },
 "nbformat": 4,
 "nbformat_minor": 5
}
