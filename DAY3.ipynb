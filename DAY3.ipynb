{
 "cells": [
  {
   "cell_type": "code",
   "execution_count": 4,
   "id": "872b918e-388a-407e-9fbb-79053559e830",
   "metadata": {},
   "outputs": [
    {
     "name": "stdout",
     "output_type": "stream",
     "text": [
      "Counter({'a': 3, 'b': 3, 's': 2, 'c': 1, 'x': 1})\n",
      "Counter({'c': 6, 'a': 4, 'b': 2})\n"
     ]
    }
   ],
   "source": [
    "import collections\n",
    "\n",
    "print(collections.Counter(['a','b','b','b','c','s','x','a','a','s']))\n",
    "\n",
    "print(collections.Counter(a=4, b=2, c=6))"
   ]
  },
  {
   "cell_type": "code",
   "execution_count": 8,
   "id": "3a33d439-b9e8-4d84-aa47-0815b6e31d03",
   "metadata": {},
   "outputs": [
    {
     "name": "stdout",
     "output_type": "stream",
     "text": [
      "Initial :  Counter()\n",
      "sequence :  Counter({'k': 9, 'd': 8, 'j': 8, 'f': 7, 'l': 6, 'h': 2})\n",
      "Dictionary :  Counter({'k': 28, 'd': 20, 'j': 8, 'f': 7, 'l': 6, 'h': 2})\n"
     ]
    }
   ],
   "source": [
    "c = collections.Counter()\n",
    "\n",
    "print(\"Initial : \", c)\n",
    "\n",
    "c.update(\"dkhkjfhlkdfjlkdjflkdfjkldfjkdfjdklfjlkdj\")\n",
    "\n",
    "print(\"sequence : \", c)\n",
    "\n",
    "c.update({'k' : 19, 'd' : 12})\n",
    "\n",
    "print(\"Dictionary : \", c)"
   ]
  },
  {
   "cell_type": "code",
   "execution_count": 9,
   "id": "33c378c4-3263-4f59-b2c6-f5a4d6456d22",
   "metadata": {},
   "outputs": [
    {
     "name": "stdout",
     "output_type": "stream",
     "text": [
      "Counter({'s': 6, 'h': 4, 'a': 3, 'b': 3, 'k': 2, 'c': 1, 'x': 1, 'j': 1, 'd': 1})\n"
     ]
    }
   ],
   "source": [
    "c1 = collections.Counter(['a','b','b','b','c','s','x','a','a','s'])\n",
    "c2 = collections.Counter(\"jshkshshksdh\")\n",
    "\n",
    "print(c1 + c2)\n"
   ]
  },
  {
   "cell_type": "code",
   "execution_count": 10,
   "id": "e9e09fef-8977-4a7d-b397-4148c81ae342",
   "metadata": {},
   "outputs": [
    {
     "name": "stdout",
     "output_type": "stream",
     "text": [
      "Counter({'a': 3, 'b': 3, 'c': 1, 'x': 1})\n"
     ]
    }
   ],
   "source": [
    "print(c1 - c2)\n"
   ]
  },
  {
   "cell_type": "code",
   "execution_count": 11,
   "id": "a1ab55e9-2701-41ad-95ba-f6b312afa5b6",
   "metadata": {},
   "outputs": [
    {
     "name": "stdout",
     "output_type": "stream",
     "text": [
      "Counter({'s': 2})\n"
     ]
    }
   ],
   "source": [
    "print(c1 & c2)"
   ]
  },
  {
   "cell_type": "code",
   "execution_count": 12,
   "id": "47db00c2-3d65-4941-880c-cb4b0f1bec8f",
   "metadata": {},
   "outputs": [
    {
     "name": "stdout",
     "output_type": "stream",
     "text": [
      "Counter({'s': 4, 'h': 4, 'a': 3, 'b': 3, 'k': 2, 'c': 1, 'x': 1, 'j': 1, 'd': 1})\n"
     ]
    }
   ],
   "source": [
    "print(c1 | c2)"
   ]
  },
  {
   "cell_type": "code",
   "execution_count": 19,
   "id": "803ab1c2-2f99-44ff-b60f-febd9ef352c2",
   "metadata": {},
   "outputs": [
    {
     "name": "stdout",
     "output_type": "stream",
     "text": [
      "3\n",
      "5\n",
      "8\n",
      "9\n"
     ]
    }
   ],
   "source": [
    "from collections import deque\n",
    "\n",
    "dq1 = deque({3 : 'a', 5 : 'b', 8 : 'c', 9 : 'd'})\n",
    "\n",
    "for e in dq1 :\n",
    "    print(e)"
   ]
  },
  {
   "cell_type": "code",
   "execution_count": 20,
   "id": "f8690420-e8c6-44c3-ac15-ac8032911700",
   "metadata": {},
   "outputs": [
    {
     "name": "stdout",
     "output_type": "stream",
     "text": [
      "3\n",
      "5\n",
      "8\n",
      "9\n"
     ]
    }
   ],
   "source": [
    "dq2 = deque(dq1)\n",
    "for e in dq2 :\n",
    "    print(e)"
   ]
  },
  {
   "cell_type": "code",
   "execution_count": 21,
   "id": "8b762d6d-16a2-4d0f-9c69-270dd23a3791",
   "metadata": {},
   "outputs": [
    {
     "name": "stdout",
     "output_type": "stream",
     "text": [
      "3\n",
      "5\n",
      "8\n",
      "9\n"
     ]
    }
   ],
   "source": [
    "dq3 = deque(dq2)\n",
    "for e in dq3 :\n",
    "    print(e)"
   ]
  },
  {
   "cell_type": "code",
   "execution_count": 26,
   "id": "912fffe4-adf7-4a09-88be-d1acb8f8bb9b",
   "metadata": {},
   "outputs": [
    {
     "name": "stdout",
     "output_type": "stream",
     "text": [
      "set()\n",
      "set()\n",
      "set()\n",
      "{'h', 'g'}\n",
      "{'j', 'l', 'f', 'd', 'h', 'k', 's'}\n",
      "frozenset({'a', 'b', 'c'})\n"
     ]
    }
   ],
   "source": [
    "print(set())\n",
    "print(set([]))\n",
    "print(set(()))\n",
    "print(set(\"gh\"))\n",
    "print(set(\"dfhkdhflkdlkdfjkdsfjdklfjldkfjdlkfjkdfl\"))\n",
    "\n",
    "print(frozenset(['a','a','b','c']))"
   ]
  },
  {
   "cell_type": "code",
   "execution_count": 29,
   "id": "9553f8d0-3a42-4ec0-b55a-a7eb286fb53a",
   "metadata": {},
   "outputs": [
    {
     "name": "stdout",
     "output_type": "stream",
     "text": [
      "{1, 2, 3, 4, 5}\n",
      "{1, 2, 3, 4, 5}\n",
      "{1, 2, 3, 4}\n"
     ]
    }
   ],
   "source": [
    "a = set([1,2,3,4])\n",
    "b = set([1,2,3,4,5])\n",
    "\n",
    "print(a.union(b))\n",
    "print(a | b)\n",
    "\n",
    "print(a & b)"
   ]
  },
  {
   "cell_type": "code",
   "execution_count": 32,
   "id": "8604b039-fe8d-457d-85f2-c478f4992cbc",
   "metadata": {},
   "outputs": [
    {
     "name": "stdout",
     "output_type": "stream",
     "text": [
      "True\n",
      "True\n",
      "{1, 2, 3, 4}\n",
      "set()\n",
      "set()\n",
      "{5}\n",
      "{5}\n",
      "{1, 2, 3, 4}\n"
     ]
    }
   ],
   "source": [
    "\n",
    "a = set([1,2,3,4])\n",
    "b = set([1,2,3,4,5])\n",
    "c = a & b\n",
    "\n",
    "\n",
    "print(c.issubset(a))\n",
    "print(c.issuperset(a))\n",
    "print(c.intersection(a))\n",
    "print(a.difference(b))\n",
    "print(a-b)\n",
    "print(a.symmetric_difference(b))\n",
    "print(a ^ b)\n",
    "print(a.copy())"
   ]
  },
  {
   "cell_type": "code",
   "execution_count": 37,
   "id": "9499555b-5c85-4cd0-b856-721d20eba2f1",
   "metadata": {},
   "outputs": [
    {
     "name": "stdout",
     "output_type": "stream",
     "text": [
      "{'s': 4, 'h': 4, 'a': 3, 'b': 3, 'k': 2, 'c': 1, 'x': 1, 'j': 1, 'd': 1}\n",
      "{'s': 4, 'h': 4, 'a': 3, 'b': 3, 'k': 2, 'c': 1, 'x': 1, 'j': 1, 'd': 1, 'name': 'Ram', 'age': 23, 'address': 'blr'}\n"
     ]
    }
   ],
   "source": [
    "dict1 = {'s': 4, 'h': 4, 'a': 3, 'b': 3, 'k': 2, 'c': 1, 'x': 1, 'j': 1, 'd': 1}\n",
    "\n",
    "print(dict1)\n",
    "\n",
    "dict1[\"name\"] = \"Ram\"\n",
    "dict1[\"age\"] = 23\n",
    "dict1[\"address\"] = \"blr\"\n",
    "\n",
    "print(dict)"
   ]
  },
  {
   "cell_type": "code",
   "execution_count": 4,
   "id": "0e94c419-b0f5-444c-903f-21dc2f04a8ed",
   "metadata": {},
   "outputs": [
    {
     "name": "stdout",
     "output_type": "stream",
     "text": [
      "[('a', 'b'), (30, 40)]\n",
      "{'a': 'b', 30: 40}\n"
     ]
    }
   ],
   "source": [
    "items = [(\"a\", \"b\"), (30, 40)]\n",
    "\n",
    "print(items)\n",
    "\n",
    "d = dict(items)\n",
    "\n",
    "print(d)"
   ]
  },
  {
   "cell_type": "code",
   "execution_count": 40,
   "id": "091be7bc-8a6b-41ae-a7b2-3f186f3068c6",
   "metadata": {},
   "outputs": [
    {
     "ename": "TypeError",
     "evalue": "'dict' object is not callable",
     "output_type": "error",
     "traceback": [
      "\u001b[1;31m---------------------------------------------------------------------------\u001b[0m",
      "\u001b[1;31mTypeError\u001b[0m                                 Traceback (most recent call last)",
      "Input \u001b[1;32mIn [40]\u001b[0m, in \u001b[0;36m<cell line: 1>\u001b[1;34m()\u001b[0m\n\u001b[1;32m----> 1\u001b[0m d \u001b[38;5;241m=\u001b[39m \u001b[38;5;28;43mdict\u001b[39;49m\u001b[43m(\u001b[49m\u001b[43mitems\u001b[49m\u001b[43m)\u001b[49m\n",
      "\u001b[1;31mTypeError\u001b[0m: 'dict' object is not callable"
     ]
    }
   ],
   "source": [
    "d = dict(items)"
   ]
  },
  {
   "cell_type": "code",
   "execution_count": 1,
   "id": "33c2b1d3-5b67-48dc-a960-3c8c4856423b",
   "metadata": {},
   "outputs": [
    {
     "name": "stdout",
     "output_type": "stream",
     "text": [
      "{'x': 1, 'y': 2}\n"
     ]
    }
   ],
   "source": [
    "print(dict(zip(('x', 'y'), (1, 2))))"
   ]
  },
  {
   "cell_type": "code",
   "execution_count": 7,
   "id": "ef537157-f0c7-4179-875b-09582e4fa104",
   "metadata": {},
   "outputs": [
    {
     "name": "stdout",
     "output_type": "stream",
     "text": [
      "{'s': 4, 'h': 4, 'a': 3, 'b': 3, 'k': 2, 'c': 1, 'x': 1, 'j': 1, 'd': 1}\n",
      "{'s': 4, 'h': 4, 'a': 3, 'b': 3, 'k': 2, 'c': 1, 'x': 1, 'j': 1, 'd': 1, 'name': 'Ram', 'age': 23, 'address': 'blr'}\n",
      "{'s': 4, 'h': 4, 'a': 3, 'b': 3, 'k': 2, 'c': 1, 'x': 1, 'j': 1, 'd': 1, 'name': 'Ram', 'address': 'blr'}\n"
     ]
    }
   ],
   "source": [
    "\n",
    "dict1 = {'s': 4, 'h': 4, 'a': 3, 'b': 3, 'k': 2, 'c': 1, 'x': 1, 'j': 1, 'd': 1}\n",
    "\n",
    "print(dict1)\n",
    "\n",
    "dict1[\"name\"] = \"Ram\"\n",
    "dict1[\"age\"] = 23\n",
    "dict1[\"address\"] = \"blr\"\n",
    "\n",
    "\n",
    "print(dict1)\n",
    "\n",
    "\n",
    "del dict1['age']\n",
    "\n",
    "print(dict1)"
   ]
  },
  {
   "cell_type": "code",
   "execution_count": 10,
   "id": "d37888d5-dc1b-4c63-9205-6f3629a47b27",
   "metadata": {},
   "outputs": [
    {
     "name": "stdout",
     "output_type": "stream",
     "text": [
      "{'s': 4, 'h': 4, 'a': 3, 'b': 3, 'k': 2, 'c': 1, 'x': 1, 'j': 1, 'd': 1, 'name': 'Ram', 'address': 'blr'}\n",
      "4\n",
      "dict_keys(['s', 'h', 'a', 'b', 'k', 'c', 'x', 'j', 'd', 'name', 'address'])\n",
      "dict_values([4, 4, 3, 3, 2, 1, 1, 1, 1, 'Ram', 'blr'])\n"
     ]
    }
   ],
   "source": [
    "dict2 = dict1.copy()\n",
    "\n",
    "print(dict2)\n",
    "\n",
    "print(dict2.get('h'))\n",
    "\n",
    "print(dict2.keys())\n",
    "\n",
    "print(dict2.values())"
   ]
  },
  {
   "cell_type": "code",
   "execution_count": 1,
   "id": "d4cb2d4f-d4c0-4f65-9d65-991210669d83",
   "metadata": {},
   "outputs": [],
   "source": [
    "class MyClass(object) :\n",
    "    pass\n",
    "\n",
    "\n",
    "class Contact :\n",
    "    all_contacts = []\n",
    "    \n",
    "    def __init__(self, name, address) :\n",
    "        self.name = name\n",
    "        self.address = address\n",
    "        Contact.all_contacts.append(self)"
   ]
  },
  {
   "cell_type": "code",
   "execution_count": 2,
   "id": "d4167869-da9b-40da-bdef-22bef98a91c7",
   "metadata": {},
   "outputs": [],
   "source": [
    "class Employee :\n",
    "    empCount = 0\n",
    "    \n",
    "    def __init__(self, name, salary) :\n",
    "        self.name = name\n",
    "        self.salary = salary\n",
    "        Employee.empCount += 1 \n",
    "        \n",
    "    def displayCount(self) :\n",
    "        print(\"Total Employees %d \" % Employee.empCount)\n",
    "              \n",
    "    def displayEmployee(self) :\n",
    "        print(\"name :\", self.name, \" salary : \", self.salary)"
   ]
  },
  {
   "cell_type": "code",
   "execution_count": 4,
   "id": "24cc3303-3648-455d-a4a9-62039253e3a3",
   "metadata": {},
   "outputs": [
    {
     "name": "stdout",
     "output_type": "stream",
     "text": [
      "name : Ram  salary :  80000\n",
      "name : Raj  salary :  99000\n",
      "4\n",
      "Total Employees 4 \n"
     ]
    }
   ],
   "source": [
    "emp1 = Employee(\"Ram\", 80000)\n",
    "emp2 = Employee(\"Raj\", 99000)\n",
    "\n",
    "emp1.displayEmployee()\n",
    "emp2.displayEmployee()\n",
    "\n",
    "print(Employee.empCount)\n",
    "\n",
    "emp1.displayCount()\n"
   ]
  },
  {
   "cell_type": "code",
   "execution_count": 5,
   "id": "a11643af-6444-487e-b1f3-fbb2afab1d17",
   "metadata": {},
   "outputs": [
    {
     "name": "stdout",
     "output_type": "stream",
     "text": [
      "Total Employees 4 \n"
     ]
    }
   ],
   "source": [
    "emp2.displayCount()"
   ]
  },
  {
   "cell_type": "code",
   "execution_count": null,
   "id": "7e235add-8e59-4b1b-a997-d210322a00c3",
   "metadata": {},
   "outputs": [],
   "source": []
  }
 ],
 "metadata": {
  "kernelspec": {
   "display_name": "Python 3 (ipykernel)",
   "language": "python",
   "name": "python3"
  },
  "language_info": {
   "codemirror_mode": {
    "name": "ipython",
    "version": 3
   },
   "file_extension": ".py",
   "mimetype": "text/x-python",
   "name": "python",
   "nbconvert_exporter": "python",
   "pygments_lexer": "ipython3",
   "version": "3.9.12"
  }
 },
 "nbformat": 4,
 "nbformat_minor": 5
}
