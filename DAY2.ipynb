{
 "cells": [
  {
   "cell_type": "code",
   "execution_count": 2,
   "id": "196b552d-83ed-43ff-81ae-d76f3542189c",
   "metadata": {},
   "outputs": [
    {
     "name": "stdout",
     "output_type": "stream",
     "text": [
      "()\n",
      "(23,)\n"
     ]
    }
   ],
   "source": [
    "x = ()\n",
    "print(x)\n",
    "\n",
    "x = 23,\n",
    "print(x)\n"
   ]
  },
  {
   "cell_type": "code",
   "execution_count": 4,
   "id": "4e2928eb-bdf6-412f-b28c-c70ea8e137c6",
   "metadata": {},
   "outputs": [
    {
     "name": "stdout",
     "output_type": "stream",
     "text": [
      "['bvr']\n",
      "<class 'list'>\n"
     ]
    }
   ],
   "source": [
    "print(['bvr'])\n",
    "print(type(['bvr']))"
   ]
  },
  {
   "cell_type": "code",
   "execution_count": 5,
   "id": "206f0434-3f91-47de-9e46-cb45eed27f31",
   "metadata": {},
   "outputs": [
    {
     "name": "stdout",
     "output_type": "stream",
     "text": [
      "bvr\n",
      "<class 'str'>\n"
     ]
    }
   ],
   "source": [
    "print(('bvr'))\n",
    "print(type(('bvr')))"
   ]
  },
  {
   "cell_type": "code",
   "execution_count": 6,
   "id": "64a82642-863a-407b-a5bd-89b3816dbc05",
   "metadata": {},
   "outputs": [
    {
     "name": "stdout",
     "output_type": "stream",
     "text": [
      "('bvr',)\n",
      "<class 'tuple'>\n"
     ]
    }
   ],
   "source": [
    "print(('bvr',))\n",
    "print(type(('bvr',)))"
   ]
  },
  {
   "cell_type": "code",
   "execution_count": 7,
   "id": "834e1080-469d-487a-aaca-24ff128bf9c1",
   "metadata": {},
   "outputs": [
    {
     "name": "stdout",
     "output_type": "stream",
     "text": [
      "441\n"
     ]
    }
   ],
   "source": [
    "print(3 * (49+98))"
   ]
  },
  {
   "cell_type": "code",
   "execution_count": 8,
   "id": "53b3b14c-d4a9-466f-8edd-5ef2d0662e78",
   "metadata": {},
   "outputs": [
    {
     "name": "stdout",
     "output_type": "stream",
     "text": [
      "(147, 147, 147)\n"
     ]
    }
   ],
   "source": [
    "print(3 * (49+98,))"
   ]
  },
  {
   "cell_type": "code",
   "execution_count": 9,
   "id": "194ea82b-11ec-487e-92f6-a9e449012c4d",
   "metadata": {},
   "outputs": [
    {
     "name": "stdout",
     "output_type": "stream",
     "text": [
      "(['abc', 567], 'bvr', 789, -782.99)\n"
     ]
    }
   ],
   "source": [
    "t = (['abc', 567], \"bvr\", 789, -782.99)\n",
    "print(t)"
   ]
  },
  {
   "cell_type": "code",
   "execution_count": 11,
   "id": "df19544c-70be-4e5e-ad50-8d31f734b89d",
   "metadata": {},
   "outputs": [
    {
     "name": "stdout",
     "output_type": "stream",
     "text": [
      "Java\n",
      "javascript\n",
      "pyspark\n",
      "3\n",
      "['Java', 'javascript', 'pyspark']\n"
     ]
    }
   ],
   "source": [
    "tup = (\"Java\", \"javascript\", \"pyspark\")\n",
    "\n",
    "a, b, c = tup\n",
    "\n",
    "print(a)\n",
    "print(b)\n",
    "print(c)\n",
    "\n",
    "print(len(tup))\n",
    "\n",
    "print(list(tup))"
   ]
  },
  {
   "cell_type": "code",
   "execution_count": 13,
   "id": "3677e5d1-ee16-4edf-a253-903792efabb7",
   "metadata": {},
   "outputs": [
    {
     "name": "stdout",
     "output_type": "stream",
     "text": [
      "Java\n",
      "javascript\n",
      "pyspark\n"
     ]
    }
   ],
   "source": [
    "tup = (\"Java\", \"javascript\", \"pyspark\")\n",
    "\n",
    "print(tup[0])\n",
    "print(tup[1])\n",
    "print(tup[2])"
   ]
  },
  {
   "cell_type": "code",
   "execution_count": 14,
   "id": "296c858f-69a5-4258-91c1-da4a897f5776",
   "metadata": {},
   "outputs": [
    {
     "name": "stdout",
     "output_type": "stream",
     "text": [
      "('Java', 'javascript', 'pyspark', 'Kotlin', 'golang', 'Erlang')\n"
     ]
    }
   ],
   "source": [
    "tup1 = (\"Java\", \"javascript\", \"pyspark\")\n",
    "tup2 = (\"Kotlin\", \"golang\", \"Erlang\")\n",
    "\n",
    "final_tup = tup1 + tup2\n",
    "print(final_tup)"
   ]
  },
  {
   "cell_type": "code",
   "execution_count": 15,
   "id": "6d86e854-c3c9-4d4c-8bbb-8c62b7c88cd9",
   "metadata": {},
   "outputs": [
    {
     "name": "stdout",
     "output_type": "stream",
     "text": [
      "Requirement already satisfied: pandas in c:\\users\\dr_vi\\anaconda3\\lib\\site-packages (1.4.2)\n",
      "Requirement already satisfied: numpy>=1.18.5 in c:\\users\\dr_vi\\anaconda3\\lib\\site-packages (from pandas) (1.21.5)\n",
      "Requirement already satisfied: python-dateutil>=2.8.1 in c:\\users\\dr_vi\\anaconda3\\lib\\site-packages (from pandas) (2.8.2)\n",
      "Requirement already satisfied: pytz>=2020.1 in c:\\users\\dr_vi\\anaconda3\\lib\\site-packages (from pandas) (2021.3)\n",
      "Requirement already satisfied: six>=1.5 in c:\\users\\dr_vi\\anaconda3\\lib\\site-packages (from python-dateutil>=2.8.1->pandas) (1.16.0)\n"
     ]
    },
    {
     "name": "stderr",
     "output_type": "stream",
     "text": [
      "\n",
      "[notice] A new release of pip available: 22.2.2 -> 23.2.1\n",
      "[notice] To update, run: python.exe -m pip install --upgrade pip\n"
     ]
    }
   ],
   "source": [
    "!pip install pandas"
   ]
  },
  {
   "cell_type": "code",
   "execution_count": 16,
   "id": "f0853183-8961-4cbb-b60e-ba1c877fe8d5",
   "metadata": {},
   "outputs": [
    {
     "name": "stdout",
     "output_type": "stream",
     "text": [
      "1j\n"
     ]
    }
   ],
   "source": [
    "import cmath\n",
    "\n",
    "print(cmath.sqrt(-1))"
   ]
  },
  {
   "cell_type": "code",
   "execution_count": 17,
   "id": "823f66c9-16b9-4aa7-b8af-dffe1f140e5a",
   "metadata": {},
   "outputs": [
    {
     "name": "stdout",
     "output_type": "stream",
     "text": [
      "(-3+31j)\n"
     ]
    }
   ],
   "source": [
    "print((1 + 3j) * (9 + 4j))"
   ]
  },
  {
   "cell_type": "code",
   "execution_count": 18,
   "id": "b38f694f-fa8c-402b-8225-29878d92a800",
   "metadata": {},
   "outputs": [
    {
     "name": "stdout",
     "output_type": "stream",
     "text": [
      "2j\n"
     ]
    }
   ],
   "source": [
    "print(1j + complex(0,1))"
   ]
  },
  {
   "cell_type": "code",
   "execution_count": 19,
   "id": "4af013a4-79b9-47d1-8f2d-f0bf3a0d90aa",
   "metadata": {},
   "outputs": [
    {
     "name": "stdout",
     "output_type": "stream",
     "text": [
      "2.0\n",
      "1.7\n"
     ]
    }
   ],
   "source": [
    "a = 2.0 + 1.7j\n",
    "\n",
    "print(a.real)\n",
    "\n",
    "print(a.imag)"
   ]
  },
  {
   "cell_type": "code",
   "execution_count": 20,
   "id": "98f8172b-dbc4-418c-a045-3dee5fd06a85",
   "metadata": {},
   "outputs": [
    {
     "name": "stdout",
     "output_type": "stream",
     "text": [
      "(2-1.7j)\n"
     ]
    }
   ],
   "source": [
    "a = 2.0 + 1.7j\n",
    "\n",
    "print(a.conjugate())"
   ]
  },
  {
   "cell_type": "code",
   "execution_count": 23,
   "id": "4b6c3158-3374-4f73-990f-be7bffeae654",
   "metadata": {},
   "outputs": [
    {
     "name": "stdout",
     "output_type": "stream",
     "text": [
      "Removed the icon next to ECS Cluster because it was for the EMR service\n",
      "R\n",
      "emoved the ico\n",
      "Removed th\n",
      "oved the icon next to ECS Cluster because it was for the EMR service\n"
     ]
    }
   ],
   "source": [
    "var1 = \"Removed the icon next to ECS Cluster because it was for the EMR service\"\n",
    "\n",
    "print(var1)\n",
    "print(var1[0])\n",
    "print(var1[1:15])\n",
    "print(var1[:10])\n",
    "print(var1[3:])"
   ]
  },
  {
   "cell_type": "code",
   "execution_count": 27,
   "id": "a39cb13e-8811-4ae8-a4a6-8449266799e5",
   "metadata": {},
   "outputs": [
    {
     "name": "stdout",
     "output_type": "stream",
     "text": [
      "                                          Now text is here                                          \n",
      "                                                                Now text is here\n",
      "Now text is here                                                                                    \n"
     ]
    }
   ],
   "source": [
    "var2 = \"Now text is here\"\n",
    "\n",
    "print(var2.center(100))\n",
    "print(var2.rjust(80))\n",
    "print(var2.ljust(100))\n"
   ]
  },
  {
   "cell_type": "code",
   "execution_count": 28,
   "id": "9c4b908e-a89a-4c2e-86bc-80e188eb13b8",
   "metadata": {},
   "outputs": [
    {
     "name": "stdout",
     "output_type": "stream",
     "text": [
      "Sushi student scored 20 in his result\n"
     ]
    }
   ],
   "source": [
    "print(\"%s student scored %d in his result\" % (\"Sushi\", 20))"
   ]
  },
  {
   "cell_type": "code",
   "execution_count": 29,
   "id": "0d93a1d4-62ec-40de-9255-04ca74bd394f",
   "metadata": {},
   "outputs": [
    {
     "name": "stdout",
     "output_type": "stream",
     "text": [
      " Slide 06, 08, 09, 14, 15, 21, 22, and 26\n",
      "o Updated the VPC boarder and icon to the new purple color. (105, 59, 197)\n",
      "• Slide 21, 22, 30, 31, 32\n",
      "o Updated the Customer gateway icon to the correct icon.\n",
      "• Slide 27, 28, 29, 30, 31, 32, and 33\n",
      "o Updated the VPC icon to the new purple icon.\n",
      "• Slides 30 and 33\n",
      "o incorrect capitalization of AWS service near its icon on the slide - change \"Transit\n",
      "gateway\" to \"Transit Gateway\".\n",
      " \n",
      "\n"
     ]
    }
   ],
   "source": [
    "para = \"\"\" Slide 06, 08, 09, 14, 15, 21, 22, and 26\n",
    "o Updated the VPC boarder and icon to the new purple color. (105, 59, 197)\n",
    "• Slide 21, 22, 30, 31, 32\n",
    "o Updated the Customer gateway icon to the correct icon.\n",
    "• Slide 27, 28, 29, 30, 31, 32, and 33\n",
    "o Updated the VPC icon to the new purple icon.\n",
    "• Slides 30 and 33\n",
    "o incorrect capitalization of AWS service near its icon on the slide - change \"Transit\n",
    "gateway\" to \"Transit Gateway\".\n",
    " \n",
    "\"\"\"\n",
    "\n",
    "\n",
    "print(para)"
   ]
  },
  {
   "cell_type": "code",
   "execution_count": 30,
   "id": "d1d41b62-caff-49e4-88b6-b912e4a3675a",
   "metadata": {},
   "outputs": [
    {
     "name": "stdout",
     "output_type": "stream",
     "text": [
      "c:\\classroom\\python\n"
     ]
    }
   ],
   "source": [
    "print(\"c:\\\\classroom\\\\python\")"
   ]
  },
  {
   "cell_type": "code",
   "execution_count": 31,
   "id": "2beb9d39-5461-4342-aa89-781e75bfdd8f",
   "metadata": {},
   "outputs": [
    {
     "name": "stdout",
     "output_type": "stream",
     "text": [
      "c:\\\\classroom\\\\python\n"
     ]
    }
   ],
   "source": [
    "print(r\"c:\\\\classroom\\\\python\")"
   ]
  },
  {
   "cell_type": "code",
   "execution_count": 33,
   "id": "000a7b8a-3f46-4031-b9e3-2d0daf341a95",
   "metadata": {},
   "outputs": [
    {
     "name": "stdout",
     "output_type": "stream",
     "text": [
      "Hello , world!\n"
     ]
    }
   ],
   "source": [
    "print('Hello , world!')"
   ]
  },
  {
   "cell_type": "code",
   "execution_count": 35,
   "id": "5280dd73-19f2-429c-b3da-6f3abb6cd370",
   "metadata": {},
   "outputs": [
    {
     "name": "stdout",
     "output_type": "stream",
     "text": [
      "Hello, world!\n"
     ]
    }
   ],
   "source": [
    "print(u'Hello, world!')"
   ]
  },
  {
   "cell_type": "code",
   "execution_count": 41,
   "id": "55e8f1fc-d787-4400-b3df-d1f1b77bddb3",
   "metadata": {},
   "outputs": [
    {
     "name": "stdout",
     "output_type": "stream",
     "text": [
      "2\n",
      "Removed the icon next to ecs cluster because it was for the emr service\n"
     ]
    }
   ],
   "source": [
    "var1 = \"removed the icon next to ECS Cluster because it was for the EMR service\"\n",
    "\n",
    "text = \"the\"\n",
    "\n",
    "print(var1.count(text, 0, 90))\n",
    "\n",
    "print(var1.capitalize())"
   ]
  },
  {
   "cell_type": "code",
   "execution_count": 44,
   "id": "53f89dc2-4599-4185-8993-a8d99571f31b",
   "metadata": {},
   "outputs": [
    {
     "name": "stdout",
     "output_type": "stream",
     "text": [
      "Encoded String :  b'cmVtb3ZlZCB0aGUgaWNvbiBuZXh0IHRvIEVDUyBDbHVzdGVyIGJlY2F1c2UgaXQgd2FzIGZvciB0aGUgRU1SIHNlcnZpY2U='\n"
     ]
    }
   ],
   "source": [
    "import base64\n",
    "\n",
    "var1 = \"removed the icon next to ECS Cluster because it was for the EMR service\"\n",
    "\n",
    "str = base64.b64encode(var1.encode('utf-8', errors='strict'))\n",
    "\n",
    "print(\"Encoded String : \" , str)"
   ]
  },
  {
   "cell_type": "code",
   "execution_count": 50,
   "id": "85768df3-b441-4da8-95a8-26892e3fdf0c",
   "metadata": {},
   "outputs": [
    {
     "name": "stdout",
     "output_type": "stream",
     "text": [
      "True\n",
      "True\n",
      "False\n",
      "True\n"
     ]
    }
   ],
   "source": [
    "var1 = \"removed the icon next to ECS Cluster because it was for the EMR service\"\n",
    "\n",
    "suffix = \"vice\"\n",
    "\n",
    "print(var1.endswith(suffix))\n",
    "print(var1.endswith(suffix, 30))\n",
    "\n",
    "suffix = \"to\"\n",
    "\n",
    "print(var1.endswith(suffix, 60))\n",
    "print(var1.endswith(suffix, 2, 24))"
   ]
  },
  {
   "cell_type": "code",
   "execution_count": 56,
   "id": "48f9a6a4-88d3-462a-9ff0-8607b1383c54",
   "metadata": {},
   "outputs": [
    {
     "name": "stdout",
     "output_type": "stream",
     "text": [
      "removed the icon next to \t ECS Cluster because it was for the EMR service\n",
      "removed the icon next to         ECS Cluster because it was for the EMR service\n",
      "removed the icon next to                                         ECS Cluster because it was for the EMR service\n",
      "removed the icon next to  ECS Cluster because it was for the EMR service\n"
     ]
    }
   ],
   "source": [
    "var1 = \"removed the icon next to \\t ECS Cluster because it was for the EMR service\"\n",
    "\n",
    "\n",
    "print(var1)\n",
    "print(var1.expandtabs())\n",
    "print(var1.expandtabs(64))\n",
    "print(var1.expandtabs(0))"
   ]
  },
  {
   "cell_type": "code",
   "execution_count": 57,
   "id": "10923dba-8753-4269-9d4e-a0ac4d823964",
   "metadata": {},
   "outputs": [
    {
     "name": "stdout",
     "output_type": "stream",
     "text": [
      "C:\\Users\\dr_vi\\CLASSROOM\n"
     ]
    }
   ],
   "source": [
    "import os\n",
    "\n",
    "print(os.path.abspath(\".\"))"
   ]
  },
  {
   "cell_type": "code",
   "execution_count": 58,
   "id": "35cd6950-dc0a-46a5-9159-c6561ab8abac",
   "metadata": {},
   "outputs": [
    {
     "name": "stdout",
     "output_type": "stream",
     "text": [
      "3.0\n"
     ]
    }
   ],
   "source": [
    "import math as foobar\n",
    "\n",
    "print(foobar.sqrt(9))"
   ]
  },
  {
   "cell_type": "code",
   "execution_count": 59,
   "id": "d162f5fa-bb28-4d81-bf8e-23e5ba2c47c6",
   "metadata": {},
   "outputs": [
    {
     "name": "stdout",
     "output_type": "stream",
     "text": [
      "3.0\n"
     ]
    }
   ],
   "source": [
    "from math import sqrt\n",
    "\n",
    "print(sqrt(9))"
   ]
  },
  {
   "cell_type": "code",
   "execution_count": 60,
   "id": "2433704f-1ee7-43ed-8d18-00ac49345a7d",
   "metadata": {},
   "outputs": [
    {
     "name": "stdout",
     "output_type": "stream",
     "text": [
      "3.0\n"
     ]
    }
   ],
   "source": [
    "from math import sqrt as foobar\n",
    "\n",
    "print(foobar(9))"
   ]
  },
  {
   "cell_type": "code",
   "execution_count": 61,
   "id": "627a4f7c-1ba0-4b44-9691-e38eb5141970",
   "metadata": {},
   "outputs": [
    {
     "ename": "ZeroDivisionError",
     "evalue": "division by zero",
     "output_type": "error",
     "traceback": [
      "\u001b[1;31m---------------------------------------------------------------------------\u001b[0m",
      "\u001b[1;31mZeroDivisionError\u001b[0m                         Traceback (most recent call last)",
      "Input \u001b[1;32mIn [61]\u001b[0m, in \u001b[0;36m<cell line: 1>\u001b[1;34m()\u001b[0m\n\u001b[1;32m----> 1\u001b[0m \u001b[38;5;28mprint\u001b[39m(\u001b[38;5;241;43m100\u001b[39;49m\u001b[38;5;241;43m/\u001b[39;49m\u001b[38;5;241;43m0\u001b[39;49m)\n",
      "\u001b[1;31mZeroDivisionError\u001b[0m: division by zero"
     ]
    }
   ],
   "source": [
    "print(100/0)"
   ]
  },
  {
   "cell_type": "code",
   "execution_count": 62,
   "id": "8efe88fe-f7b7-470a-879e-b2cadbac2f33",
   "metadata": {},
   "outputs": [
    {
     "ename": "IndexError",
     "evalue": "list index out of range",
     "output_type": "error",
     "traceback": [
      "\u001b[1;31m---------------------------------------------------------------------------\u001b[0m",
      "\u001b[1;31mIndexError\u001b[0m                                Traceback (most recent call last)",
      "Input \u001b[1;32mIn [62]\u001b[0m, in \u001b[0;36m<cell line: 3>\u001b[1;34m()\u001b[0m\n\u001b[0;32m      1\u001b[0m list1 \u001b[38;5;241m=\u001b[39m []\n\u001b[1;32m----> 3\u001b[0m \u001b[38;5;28mprint\u001b[39m(\u001b[43mlist1\u001b[49m\u001b[43m[\u001b[49m\u001b[38;5;241;43m6\u001b[39;49m\u001b[43m]\u001b[49m)\n",
      "\u001b[1;31mIndexError\u001b[0m: list index out of range"
     ]
    }
   ],
   "source": [
    "list1 = []\n",
    "\n",
    "print(list1[6])"
   ]
  },
  {
   "cell_type": "code",
   "execution_count": 63,
   "id": "98fc9a1e-d2b8-4af0-9c0d-2d56ccec3889",
   "metadata": {},
   "outputs": [
    {
     "ename": "FileNotFoundError",
     "evalue": "[Errno 2] No such file or directory: 'hello.txt'",
     "output_type": "error",
     "traceback": [
      "\u001b[1;31m---------------------------------------------------------------------------\u001b[0m",
      "\u001b[1;31mFileNotFoundError\u001b[0m                         Traceback (most recent call last)",
      "Input \u001b[1;32mIn [63]\u001b[0m, in \u001b[0;36m<cell line: 1>\u001b[1;34m()\u001b[0m\n\u001b[1;32m----> 1\u001b[0m f \u001b[38;5;241m=\u001b[39m \u001b[38;5;28;43mopen\u001b[39;49m\u001b[43m(\u001b[49m\u001b[38;5;124;43m\"\u001b[39;49m\u001b[38;5;124;43mhello.txt\u001b[39;49m\u001b[38;5;124;43m\"\u001b[39;49m\u001b[43m)\u001b[49m\n",
      "\u001b[1;31mFileNotFoundError\u001b[0m: [Errno 2] No such file or directory: 'hello.txt'"
     ]
    }
   ],
   "source": [
    "f = open(\"hello.txt\")"
   ]
  },
  {
   "cell_type": "code",
   "execution_count": 65,
   "id": "79dbba9f-780e-4431-8eaa-8488350ba912",
   "metadata": {},
   "outputs": [
    {
     "name": "stdin",
     "output_type": "stream",
     "text": [
      "enter first number 90\n",
      "enter second number 0\n"
     ]
    },
    {
     "ename": "ZeroDivisionError",
     "evalue": "float division by zero",
     "output_type": "error",
     "traceback": [
      "\u001b[1;31m---------------------------------------------------------------------------\u001b[0m",
      "\u001b[1;31mZeroDivisionError\u001b[0m                         Traceback (most recent call last)",
      "Input \u001b[1;32mIn [65]\u001b[0m, in \u001b[0;36m<cell line: 8>\u001b[1;34m()\u001b[0m\n\u001b[0;32m      5\u001b[0m number1 \u001b[38;5;241m=\u001b[39m \u001b[38;5;28mfloat\u001b[39m(number1)\n\u001b[0;32m      6\u001b[0m number2 \u001b[38;5;241m=\u001b[39m \u001b[38;5;28mfloat\u001b[39m(number2)\n\u001b[1;32m----> 8\u001b[0m result \u001b[38;5;241m=\u001b[39m \u001b[43mnumber1\u001b[49m\u001b[38;5;241;43m/\u001b[39;49m\u001b[43mnumber2\u001b[49m\n\u001b[0;32m     10\u001b[0m \u001b[38;5;28mprint\u001b[39m(result)\n",
      "\u001b[1;31mZeroDivisionError\u001b[0m: float division by zero"
     ]
    }
   ],
   "source": [
    "number1 = input(\"enter first number\")\n",
    "number2 =input(\"enter second number\")\n",
    "\n",
    "\n",
    "number1 = float(number1)\n",
    "number2 = float(number2)\n",
    "\n",
    "result = number1/number2\n",
    "\n",
    "print(result)"
   ]
  },
  {
   "cell_type": "code",
   "execution_count": 67,
   "id": "f25fcac7-9fb7-484a-906c-87e55a4e46af",
   "metadata": {},
   "outputs": [
    {
     "name": "stdin",
     "output_type": "stream",
     "text": [
      "enter first number 78\n",
      "enter second number uiuew\n"
     ]
    },
    {
     "ename": "ValueError",
     "evalue": "could not convert string to float: 'uiuew'",
     "output_type": "error",
     "traceback": [
      "\u001b[1;31m---------------------------------------------------------------------------\u001b[0m",
      "\u001b[1;31mValueError\u001b[0m                                Traceback (most recent call last)",
      "Input \u001b[1;32mIn [67]\u001b[0m, in \u001b[0;36m<cell line: 4>\u001b[1;34m()\u001b[0m\n\u001b[0;32m      4\u001b[0m \u001b[38;5;28;01mtry\u001b[39;00m :\n\u001b[0;32m      5\u001b[0m     number1 \u001b[38;5;241m=\u001b[39m \u001b[38;5;28mfloat\u001b[39m(number1)\n\u001b[1;32m----> 6\u001b[0m     number2 \u001b[38;5;241m=\u001b[39m \u001b[38;5;28;43mfloat\u001b[39;49m\u001b[43m(\u001b[49m\u001b[43mnumber2\u001b[49m\u001b[43m)\u001b[49m\n\u001b[0;32m      8\u001b[0m     result \u001b[38;5;241m=\u001b[39m number1\u001b[38;5;241m/\u001b[39mnumber2\n\u001b[0;32m     10\u001b[0m     \u001b[38;5;28mprint\u001b[39m(result)\n",
      "\u001b[1;31mValueError\u001b[0m: could not convert string to float: 'uiuew'"
     ]
    }
   ],
   "source": [
    "number1 = input(\"enter first number\")\n",
    "number2 =input(\"enter second number\")\n",
    "\n",
    "try :\n",
    "    number1 = float(number1)\n",
    "    number2 = float(number2)\n",
    "\n",
    "    result = number1/number2\n",
    "\n",
    "    print(result)\n",
    "except ZeroDivisionError :\n",
    "    print(\"attempted to divide by 0 - enter correct values\")\n",
    "    "
   ]
  },
  {
   "cell_type": "code",
   "execution_count": null,
   "id": "606ece01-78d0-481d-ba05-7dc42708c5aa",
   "metadata": {},
   "outputs": [
    {
     "name": "stdin",
     "output_type": "stream",
     "text": [
      "enter first number 938984\n",
      "enter second number sjhhf\n"
     ]
    },
    {
     "name": "stdout",
     "output_type": "stream",
     "text": [
      "Enter proper values\n"
     ]
    }
   ],
   "source": [
    "number1 = input(\"enter first number\")\n",
    "number2 =input(\"enter second number\")\n",
    "\n",
    "try :\n",
    "    number1 = float(number1)\n",
    "    number2 = float(number2)\n",
    "\n",
    "    result = number1/number2\n",
    "\n",
    "    print(result)\n",
    "except ZeroDivisionError :\n",
    "    print(\"attempted to divide by 0 - enter correct values\")\n",
    "    \n",
    "except ValueError :\n",
    "    print(\"Enter proper values\")"
   ]
  },
  {
   "cell_type": "code",
   "execution_count": 72,
   "id": "e8b27b1c-dc88-45f8-ba6b-5c7ffa993348",
   "metadata": {},
   "outputs": [
    {
     "name": "stdin",
     "output_type": "stream",
     "text": [
      "enter first number 878\n",
      "enter second number 98\n"
     ]
    },
    {
     "name": "stdout",
     "output_type": "stream",
     "text": [
      "8.959183673469388\n",
      "878.000 / 98.000 = 8.959\n"
     ]
    }
   ],
   "source": [
    "number1 = input(\"enter first number\")\n",
    "number2 =input(\"enter second number\")\n",
    "\n",
    "try :\n",
    "    number1 = float(number1)\n",
    "    number2 = float(number2)\n",
    "\n",
    "    result = number1/number2\n",
    "\n",
    "    print(result)\n",
    "except ZeroDivisionError :\n",
    "    print(\"attempted to divide by 0 - enter correct values\")\n",
    "    \n",
    "except ValueError :\n",
    "    print(\"Enter proper values\")\n",
    "else :\n",
    "    print(\"%.3f / %.3f = %.3f\" % (number1, number2, result))"
   ]
  },
  {
   "cell_type": "code",
   "execution_count": 73,
   "id": "2d8972a2-065c-4da5-b7be-aae40f1883f5",
   "metadata": {},
   "outputs": [
    {
     "name": "stdin",
     "output_type": "stream",
     "text": [
      "Enter and integer 1q\n"
     ]
    },
    {
     "name": "stdout",
     "output_type": "stream",
     "text": [
      "Does not look like integer\n"
     ]
    }
   ],
   "source": [
    "try :\n",
    "    x = input(\"Enter and integer\")\n",
    "    y = int(x)\n",
    "    print(y)\n",
    "except (TypeError, ValueError) :\n",
    "    print(\"Does not look like integer\")\n",
    "    \n",
    "    "
   ]
  },
  {
   "cell_type": "code",
   "execution_count": 76,
   "id": "11c2c205-7f81-4024-b988-f2592fe37890",
   "metadata": {},
   "outputs": [
    {
     "name": "stdout",
     "output_type": "stream",
     "text": [
      "Final parent exception came\n",
      "Last Statement - continues\n"
     ]
    }
   ],
   "source": [
    "try :\n",
    "    \n",
    "    print(100/0)\n",
    "    \n",
    "    x = input(\"Enter and integer\")\n",
    "    y = int(x)\n",
    "    print(y)\n",
    "    \n",
    "    list1 = []\n",
    "    print(list1[6])\n",
    "    \n",
    "except (TypeError, ValueError) :\n",
    "    print(\"Does not look like integer\")\n",
    "    \n",
    "except :\n",
    "    print(\"Final parent exception came\")\n",
    "\n",
    "        \n",
    "print(\"Last Statement - continues\")"
   ]
  },
  {
   "cell_type": "code",
   "execution_count": 77,
   "id": "85a54508-720f-41a2-9ad1-7d56961327a1",
   "metadata": {},
   "outputs": [
    {
     "name": "stdout",
     "output_type": "stream",
     "text": [
      "Final parent exception came\n"
     ]
    },
    {
     "ename": "ZeroDivisionError",
     "evalue": "division by zero",
     "output_type": "error",
     "traceback": [
      "\u001b[1;31m---------------------------------------------------------------------------\u001b[0m",
      "\u001b[1;31mZeroDivisionError\u001b[0m                         Traceback (most recent call last)",
      "Input \u001b[1;32mIn [77]\u001b[0m, in \u001b[0;36m<cell line: 1>\u001b[1;34m()\u001b[0m\n\u001b[0;32m      1\u001b[0m \u001b[38;5;28;01mtry\u001b[39;00m :\n\u001b[1;32m----> 3\u001b[0m     \u001b[38;5;28mprint\u001b[39m(\u001b[38;5;241;43m100\u001b[39;49m\u001b[38;5;241;43m/\u001b[39;49m\u001b[38;5;241;43m0\u001b[39;49m)\n\u001b[0;32m      5\u001b[0m     x \u001b[38;5;241m=\u001b[39m \u001b[38;5;28minput\u001b[39m(\u001b[38;5;124m\"\u001b[39m\u001b[38;5;124mEnter and integer\u001b[39m\u001b[38;5;124m\"\u001b[39m)\n\u001b[0;32m      6\u001b[0m     y \u001b[38;5;241m=\u001b[39m \u001b[38;5;28mint\u001b[39m(x)\n",
      "\u001b[1;31mZeroDivisionError\u001b[0m: division by zero"
     ]
    }
   ],
   "source": [
    "try :\n",
    "    \n",
    "    print(100/0)\n",
    "    \n",
    "    x = input(\"Enter and integer\")\n",
    "    y = int(x)\n",
    "    print(y)\n",
    "    \n",
    "    list1 = []\n",
    "    print(list1[6])\n",
    "    \n",
    "except (TypeError, ValueError) :\n",
    "    print(\"Does not look like integer\")\n",
    "    \n",
    "except :\n",
    "    print(\"Final parent exception came\")\n",
    "    raise"
   ]
  },
  {
   "cell_type": "code",
   "execution_count": 79,
   "id": "c3234745-0405-4f53-a56f-3a7bd69e19a9",
   "metadata": {},
   "outputs": [
    {
     "name": "stdout",
     "output_type": "stream",
     "text": [
      "Captured :  invalid literal for int() with base 10: 'four'\n",
      "code continues\n"
     ]
    }
   ],
   "source": [
    "def func() :\n",
    "    x = int(\"four\")\n",
    "    \n",
    "\n",
    "try :\n",
    "    func()\n",
    "except ValueError as e :\n",
    "    print(\"Captured : \", e)\n",
    "\n",
    "print(\"code continues\")\n",
    "    "
   ]
  },
  {
   "cell_type": "code",
   "execution_count": 82,
   "id": "7b9a02c9-3b90-4fc8-99c0-5bd19a1a750b",
   "metadata": {},
   "outputs": [
    {
     "name": "stdout",
     "output_type": "stream",
     "text": [
      "Captured :  invalid literal for int() with base 10: 'four'\n",
      "Captured :  invalid literal for int() with base 10: 'four'\n",
      "code continues\n"
     ]
    }
   ],
   "source": [
    "def func() :\n",
    "    try :\n",
    "        x = int(\"four\")\n",
    "    except ValueError as e :\n",
    "        print(\"Captured : \", e)\n",
    "        raise\n",
    "\n",
    "\n",
    "\n",
    "\n",
    "try :\n",
    "    func()\n",
    "except ValueError as e :\n",
    "    print(\"Captured : \", e)\n",
    "\n",
    "\n",
    "print(\"code continues\")\n",
    "    "
   ]
  },
  {
   "cell_type": "code",
   "execution_count": 83,
   "id": "b60b1a81-779d-4abb-a410-d16c6b8bc00c",
   "metadata": {},
   "outputs": [
    {
     "ename": "MyException",
     "evalue": "Custom exception called",
     "output_type": "error",
     "traceback": [
      "\u001b[1;31m---------------------------------------------------------------------------\u001b[0m",
      "\u001b[1;31mMyException\u001b[0m                               Traceback (most recent call last)",
      "Input \u001b[1;32mIn [83]\u001b[0m, in \u001b[0;36m<cell line: 4>\u001b[1;34m()\u001b[0m\n\u001b[0;32m      1\u001b[0m \u001b[38;5;28;01mclass\u001b[39;00m \u001b[38;5;21;01mMyException\u001b[39;00m(\u001b[38;5;167;01mException\u001b[39;00m) :\n\u001b[0;32m      2\u001b[0m     \u001b[38;5;28;01mpass\u001b[39;00m\n\u001b[1;32m----> 4\u001b[0m \u001b[38;5;28;01mraise\u001b[39;00m MyException(\u001b[38;5;124m\"\u001b[39m\u001b[38;5;124mCustom exception called\u001b[39m\u001b[38;5;124m\"\u001b[39m)\n",
      "\u001b[1;31mMyException\u001b[0m: Custom exception called"
     ]
    }
   ],
   "source": [
    "class MyException(Exception) :\n",
    "    pass\n",
    "\n",
    "raise MyException(\"Custom exception called\")"
   ]
  },
  {
   "cell_type": "code",
   "execution_count": 90,
   "id": "4c420fad-8ccc-4bf8-8462-c270beecd29e",
   "metadata": {},
   "outputs": [
    {
     "name": "stdout",
     "output_type": "stream",
     "text": [
      "Captured :  invalid literal for int() with base 10: 'four'\n",
      "Captured :  invalid literal for int() with base 10: 'four'\n",
      "finally block executed\n",
      "code continues\n"
     ]
    }
   ],
   "source": [
    "def func() :\n",
    "    try :\n",
    "        x = int(\"four\")\n",
    "        \n",
    "    except ValueError as e :\n",
    "        print(\"Captured : \", e)\n",
    "        raise\n",
    "    \n",
    "\n",
    "\n",
    "\n",
    "\n",
    "try :\n",
    "    func()\n",
    "except ValueError as e :\n",
    "    print(\"Captured : \", e)\n",
    "finally :\n",
    "    print(\"finally block executed\")\n",
    "\n",
    "print(\"code continues\")\n",
    "    "
   ]
  },
  {
   "cell_type": "code",
   "execution_count": 91,
   "id": "49cea492-bda4-4b6b-b8db-5eb196874385",
   "metadata": {},
   "outputs": [
    {
     "name": "stdout",
     "output_type": "stream",
     "text": [
      "Common data\n",
      "finally block executed\n",
      "code continues\n"
     ]
    }
   ],
   "source": [
    "try :\n",
    "    print(\"Common data\")\n",
    "finally :\n",
    "    print(\"finally block executed\")\n",
    "\n",
    "print(\"code continues\")"
   ]
  },
  {
   "cell_type": "code",
   "execution_count": null,
   "id": "e87c4814-8329-45d4-91ff-b5a2a3597af1",
   "metadata": {},
   "outputs": [],
   "source": []
  }
 ],
 "metadata": {
  "kernelspec": {
   "display_name": "Python 3 (ipykernel)",
   "language": "python",
   "name": "python3"
  },
  "language_info": {
   "codemirror_mode": {
    "name": "ipython",
    "version": 3
   },
   "file_extension": ".py",
   "mimetype": "text/x-python",
   "name": "python",
   "nbconvert_exporter": "python",
   "pygments_lexer": "ipython3",
   "version": "3.9.12"
  }
 },
 "nbformat": 4,
 "nbformat_minor": 5
}
