{
 "cells": [
  {
   "cell_type": "code",
   "execution_count": 2,
   "id": "196b552d-83ed-43ff-81ae-d76f3542189c",
   "metadata": {},
   "outputs": [
    {
     "name": "stdout",
     "output_type": "stream",
     "text": [
      "()\n",
      "(23,)\n"
     ]
    }
   ],
   "source": [
    "x = ()\n",
    "print(x)\n",
    "\n",
    "x = 23,\n",
    "print(x)\n"
   ]
  },
  {
   "cell_type": "code",
   "execution_count": 4,
   "id": "4e2928eb-bdf6-412f-b28c-c70ea8e137c6",
   "metadata": {},
   "outputs": [
    {
     "name": "stdout",
     "output_type": "stream",
     "text": [
      "['bvr']\n",
      "<class 'list'>\n"
     ]
    }
   ],
   "source": [
    "print(['bvr'])\n",
    "print(type(['bvr']))"
   ]
  },
  {
   "cell_type": "code",
   "execution_count": 5,
   "id": "206f0434-3f91-47de-9e46-cb45eed27f31",
   "metadata": {},
   "outputs": [
    {
     "name": "stdout",
     "output_type": "stream",
     "text": [
      "bvr\n",
      "<class 'str'>\n"
     ]
    }
   ],
   "source": [
    "print(('bvr'))\n",
    "print(type(('bvr')))"
   ]
  },
  {
   "cell_type": "code",
   "execution_count": 6,
   "id": "64a82642-863a-407b-a5bd-89b3816dbc05",
   "metadata": {},
   "outputs": [
    {
     "name": "stdout",
     "output_type": "stream",
     "text": [
      "('bvr',)\n",
      "<class 'tuple'>\n"
     ]
    }
   ],
   "source": [
    "print(('bvr',))\n",
    "print(type(('bvr',)))"
   ]
  },
  {
   "cell_type": "code",
   "execution_count": 7,
   "id": "834e1080-469d-487a-aaca-24ff128bf9c1",
   "metadata": {},
   "outputs": [
    {
     "name": "stdout",
     "output_type": "stream",
     "text": [
      "441\n"
     ]
    }
   ],
   "source": [
    "print(3 * (49+98))"
   ]
  },
  {
   "cell_type": "code",
   "execution_count": 8,
   "id": "53b3b14c-d4a9-466f-8edd-5ef2d0662e78",
   "metadata": {},
   "outputs": [
    {
     "name": "stdout",
     "output_type": "stream",
     "text": [
      "(147, 147, 147)\n"
     ]
    }
   ],
   "source": [
    "print(3 * (49+98,))"
   ]
  },
  {
   "cell_type": "code",
   "execution_count": 9,
   "id": "194ea82b-11ec-487e-92f6-a9e449012c4d",
   "metadata": {},
   "outputs": [
    {
     "name": "stdout",
     "output_type": "stream",
     "text": [
      "(['abc', 567], 'bvr', 789, -782.99)\n"
     ]
    }
   ],
   "source": [
    "t = (['abc', 567], \"bvr\", 789, -782.99)\n",
    "print(t)"
   ]
  },
  {
   "cell_type": "code",
   "execution_count": 11,
   "id": "df19544c-70be-4e5e-ad50-8d31f734b89d",
   "metadata": {},
   "outputs": [
    {
     "name": "stdout",
     "output_type": "stream",
     "text": [
      "Java\n",
      "javascript\n",
      "pyspark\n",
      "3\n",
      "['Java', 'javascript', 'pyspark']\n"
     ]
    }
   ],
   "source": [
    "tup = (\"Java\", \"javascript\", \"pyspark\")\n",
    "\n",
    "a, b, c = tup\n",
    "\n",
    "print(a)\n",
    "print(b)\n",
    "print(c)\n",
    "\n",
    "print(len(tup))\n",
    "\n",
    "print(list(tup))"
   ]
  },
  {
   "cell_type": "code",
   "execution_count": 13,
   "id": "3677e5d1-ee16-4edf-a253-903792efabb7",
   "metadata": {},
   "outputs": [
    {
     "name": "stdout",
     "output_type": "stream",
     "text": [
      "Java\n",
      "javascript\n",
      "pyspark\n"
     ]
    }
   ],
   "source": [
    "tup = (\"Java\", \"javascript\", \"pyspark\")\n",
    "\n",
    "print(tup[0])\n",
    "print(tup[1])\n",
    "print(tup[2])"
   ]
  },
  {
   "cell_type": "code",
   "execution_count": 14,
   "id": "296c858f-69a5-4258-91c1-da4a897f5776",
   "metadata": {},
   "outputs": [
    {
     "name": "stdout",
     "output_type": "stream",
     "text": [
      "('Java', 'javascript', 'pyspark', 'Kotlin', 'golang', 'Erlang')\n"
     ]
    }
   ],
   "source": [
    "tup1 = (\"Java\", \"javascript\", \"pyspark\")\n",
    "tup2 = (\"Kotlin\", \"golang\", \"Erlang\")\n",
    "\n",
    "final_tup = tup1 + tup2\n",
    "print(final_tup)"
   ]
  },
  {
   "cell_type": "code",
   "execution_count": 15,
   "id": "6d86e854-c3c9-4d4c-8bbb-8c62b7c88cd9",
   "metadata": {},
   "outputs": [
    {
     "name": "stdout",
     "output_type": "stream",
     "text": [
      "Requirement already satisfied: pandas in c:\\users\\dr_vi\\anaconda3\\lib\\site-packages (1.4.2)\n",
      "Requirement already satisfied: numpy>=1.18.5 in c:\\users\\dr_vi\\anaconda3\\lib\\site-packages (from pandas) (1.21.5)\n",
      "Requirement already satisfied: python-dateutil>=2.8.1 in c:\\users\\dr_vi\\anaconda3\\lib\\site-packages (from pandas) (2.8.2)\n",
      "Requirement already satisfied: pytz>=2020.1 in c:\\users\\dr_vi\\anaconda3\\lib\\site-packages (from pandas) (2021.3)\n",
      "Requirement already satisfied: six>=1.5 in c:\\users\\dr_vi\\anaconda3\\lib\\site-packages (from python-dateutil>=2.8.1->pandas) (1.16.0)\n"
     ]
    },
    {
     "name": "stderr",
     "output_type": "stream",
     "text": [
      "\n",
      "[notice] A new release of pip available: 22.2.2 -> 23.2.1\n",
      "[notice] To update, run: python.exe -m pip install --upgrade pip\n"
     ]
    }
   ],
   "source": [
    "!pip install pandas"
   ]
  },
  {
   "cell_type": "code",
   "execution_count": 16,
   "id": "f0853183-8961-4cbb-b60e-ba1c877fe8d5",
   "metadata": {},
   "outputs": [
    {
     "name": "stdout",
     "output_type": "stream",
     "text": [
      "1j\n"
     ]
    }
   ],
   "source": [
    "import cmath\n",
    "\n",
    "print(cmath.sqrt(-1))"
   ]
  },
  {
   "cell_type": "code",
   "execution_count": 17,
   "id": "823f66c9-16b9-4aa7-b8af-dffe1f140e5a",
   "metadata": {},
   "outputs": [
    {
     "name": "stdout",
     "output_type": "stream",
     "text": [
      "(-3+31j)\n"
     ]
    }
   ],
   "source": [
    "print((1 + 3j) * (9 + 4j))"
   ]
  },
  {
   "cell_type": "code",
   "execution_count": 18,
   "id": "b38f694f-fa8c-402b-8225-29878d92a800",
   "metadata": {},
   "outputs": [
    {
     "name": "stdout",
     "output_type": "stream",
     "text": [
      "2j\n"
     ]
    }
   ],
   "source": [
    "print(1j + complex(0,1))"
   ]
  },
  {
   "cell_type": "code",
   "execution_count": 19,
   "id": "4af013a4-79b9-47d1-8f2d-f0bf3a0d90aa",
   "metadata": {},
   "outputs": [
    {
     "name": "stdout",
     "output_type": "stream",
     "text": [
      "2.0\n",
      "1.7\n"
     ]
    }
   ],
   "source": [
    "a = 2.0 + 1.7j\n",
    "\n",
    "print(a.real)\n",
    "\n",
    "print(a.imag)"
   ]
  },
  {
   "cell_type": "code",
   "execution_count": 20,
   "id": "98f8172b-dbc4-418c-a045-3dee5fd06a85",
   "metadata": {},
   "outputs": [
    {
     "name": "stdout",
     "output_type": "stream",
     "text": [
      "(2-1.7j)\n"
     ]
    }
   ],
   "source": [
    "a = 2.0 + 1.7j\n",
    "\n",
    "print(a.conjugate())"
   ]
  },
  {
   "cell_type": "code",
   "execution_count": 23,
   "id": "4b6c3158-3374-4f73-990f-be7bffeae654",
   "metadata": {},
   "outputs": [
    {
     "name": "stdout",
     "output_type": "stream",
     "text": [
      "Removed the icon next to ECS Cluster because it was for the EMR service\n",
      "R\n",
      "emoved the ico\n",
      "Removed th\n",
      "oved the icon next to ECS Cluster because it was for the EMR service\n"
     ]
    }
   ],
   "source": [
    "var1 = \"Removed the icon next to ECS Cluster because it was for the EMR service\"\n",
    "\n",
    "print(var1)\n",
    "print(var1[0])\n",
    "print(var1[1:15])\n",
    "print(var1[:10])\n",
    "print(var1[3:])"
   ]
  },
  {
   "cell_type": "code",
   "execution_count": 27,
   "id": "a39cb13e-8811-4ae8-a4a6-8449266799e5",
   "metadata": {},
   "outputs": [
    {
     "name": "stdout",
     "output_type": "stream",
     "text": [
      "                                          Now text is here                                          \n",
      "                                                                Now text is here\n",
      "Now text is here                                                                                    \n"
     ]
    }
   ],
   "source": [
    "var2 = \"Now text is here\"\n",
    "\n",
    "print(var2.center(100))\n",
    "print(var2.rjust(80))\n",
    "print(var2.ljust(100))\n"
   ]
  },
  {
   "cell_type": "code",
   "execution_count": 28,
   "id": "9c4b908e-a89a-4c2e-86bc-80e188eb13b8",
   "metadata": {},
   "outputs": [
    {
     "name": "stdout",
     "output_type": "stream",
     "text": [
      "Sushi student scored 20 in his result\n"
     ]
    }
   ],
   "source": [
    "print(\"%s student scored %d in his result\" % (\"Sushi\", 20))"
   ]
  },
  {
   "cell_type": "code",
   "execution_count": 29,
   "id": "0d93a1d4-62ec-40de-9255-04ca74bd394f",
   "metadata": {},
   "outputs": [
    {
     "name": "stdout",
     "output_type": "stream",
     "text": [
      " Slide 06, 08, 09, 14, 15, 21, 22, and 26\n",
      "o Updated the VPC boarder and icon to the new purple color. (105, 59, 197)\n",
      "• Slide 21, 22, 30, 31, 32\n",
      "o Updated the Customer gateway icon to the correct icon.\n",
      "• Slide 27, 28, 29, 30, 31, 32, and 33\n",
      "o Updated the VPC icon to the new purple icon.\n",
      "• Slides 30 and 33\n",
      "o incorrect capitalization of AWS service near its icon on the slide - change \"Transit\n",
      "gateway\" to \"Transit Gateway\".\n",
      " \n",
      "\n"
     ]
    }
   ],
   "source": [
    "para = \"\"\" Slide 06, 08, 09, 14, 15, 21, 22, and 26\n",
    "o Updated the VPC boarder and icon to the new purple color. (105, 59, 197)\n",
    "• Slide 21, 22, 30, 31, 32\n",
    "o Updated the Customer gateway icon to the correct icon.\n",
    "• Slide 27, 28, 29, 30, 31, 32, and 33\n",
    "o Updated the VPC icon to the new purple icon.\n",
    "• Slides 30 and 33\n",
    "o incorrect capitalization of AWS service near its icon on the slide - change \"Transit\n",
    "gateway\" to \"Transit Gateway\".\n",
    " \n",
    "\"\"\"\n",
    "\n",
    "\n",
    "print(para)"
   ]
  },
  {
   "cell_type": "code",
   "execution_count": 30,
   "id": "d1d41b62-caff-49e4-88b6-b912e4a3675a",
   "metadata": {},
   "outputs": [
    {
     "name": "stdout",
     "output_type": "stream",
     "text": [
      "c:\\classroom\\python\n"
     ]
    }
   ],
   "source": [
    "print(\"c:\\\\classroom\\\\python\")"
   ]
  },
  {
   "cell_type": "code",
   "execution_count": 31,
   "id": "2beb9d39-5461-4342-aa89-781e75bfdd8f",
   "metadata": {},
   "outputs": [
    {
     "name": "stdout",
     "output_type": "stream",
     "text": [
      "c:\\\\classroom\\\\python\n"
     ]
    }
   ],
   "source": [
    "print(r\"c:\\\\classroom\\\\python\")"
   ]
  },
  {
   "cell_type": "code",
   "execution_count": 33,
   "id": "000a7b8a-3f46-4031-b9e3-2d0daf341a95",
   "metadata": {},
   "outputs": [
    {
     "name": "stdout",
     "output_type": "stream",
     "text": [
      "Hello , world!\n"
     ]
    }
   ],
   "source": [
    "print('Hello , world!')"
   ]
  },
  {
   "cell_type": "code",
   "execution_count": 35,
   "id": "5280dd73-19f2-429c-b3da-6f3abb6cd370",
   "metadata": {},
   "outputs": [
    {
     "name": "stdout",
     "output_type": "stream",
     "text": [
      "Hello, world!\n"
     ]
    }
   ],
   "source": [
    "print(u'Hello, world!')"
   ]
  },
  {
   "cell_type": "code",
   "execution_count": 41,
   "id": "55e8f1fc-d787-4400-b3df-d1f1b77bddb3",
   "metadata": {},
   "outputs": [
    {
     "name": "stdout",
     "output_type": "stream",
     "text": [
      "2\n",
      "Removed the icon next to ecs cluster because it was for the emr service\n"
     ]
    }
   ],
   "source": [
    "var1 = \"removed the icon next to ECS Cluster because it was for the EMR service\"\n",
    "\n",
    "text = \"the\"\n",
    "\n",
    "print(var1.count(text, 0, 90))\n",
    "\n",
    "print(var1.capitalize())"
   ]
  },
  {
   "cell_type": "code",
   "execution_count": 44,
   "id": "53f89dc2-4599-4185-8993-a8d99571f31b",
   "metadata": {},
   "outputs": [
    {
     "name": "stdout",
     "output_type": "stream",
     "text": [
      "Encoded String :  b'cmVtb3ZlZCB0aGUgaWNvbiBuZXh0IHRvIEVDUyBDbHVzdGVyIGJlY2F1c2UgaXQgd2FzIGZvciB0aGUgRU1SIHNlcnZpY2U='\n"
     ]
    }
   ],
   "source": [
    "import base64\n",
    "\n",
    "var1 = \"removed the icon next to ECS Cluster because it was for the EMR service\"\n",
    "\n",
    "str = base64.b64encode(var1.encode('utf-8', errors='strict'))\n",
    "\n",
    "print(\"Encoded String : \" , str)"
   ]
  },
  {
   "cell_type": "code",
   "execution_count": 50,
   "id": "85768df3-b441-4da8-95a8-26892e3fdf0c",
   "metadata": {},
   "outputs": [
    {
     "name": "stdout",
     "output_type": "stream",
     "text": [
      "True\n",
      "True\n",
      "False\n",
      "True\n"
     ]
    }
   ],
   "source": [
    "var1 = \"removed the icon next to ECS Cluster because it was for the EMR service\"\n",
    "\n",
    "suffix = \"vice\"\n",
    "\n",
    "print(var1.endswith(suffix))\n",
    "print(var1.endswith(suffix, 30))\n",
    "\n",
    "suffix = \"to\"\n",
    "\n",
    "print(var1.endswith(suffix, 60))\n",
    "print(var1.endswith(suffix, 2, 24))"
   ]
  },
  {
   "cell_type": "code",
   "execution_count": 56,
   "id": "48f9a6a4-88d3-462a-9ff0-8607b1383c54",
   "metadata": {},
   "outputs": [
    {
     "name": "stdout",
     "output_type": "stream",
     "text": [
      "removed the icon next to \t ECS Cluster because it was for the EMR service\n",
      "removed the icon next to         ECS Cluster because it was for the EMR service\n",
      "removed the icon next to                                         ECS Cluster because it was for the EMR service\n",
      "removed the icon next to  ECS Cluster because it was for the EMR service\n"
     ]
    }
   ],
   "source": [
    "var1 = \"removed the icon next to \\t ECS Cluster because it was for the EMR service\"\n",
    "\n",
    "\n",
    "print(var1)\n",
    "print(var1.expandtabs())\n",
    "print(var1.expandtabs(64))\n",
    "print(var1.expandtabs(0))"
   ]
  },
  {
   "cell_type": "code",
   "execution_count": null,
   "id": "10923dba-8753-4269-9d4e-a0ac4d823964",
   "metadata": {},
   "outputs": [],
   "source": []
  }
 ],
 "metadata": {
  "kernelspec": {
   "display_name": "Python 3 (ipykernel)",
   "language": "python",
   "name": "python3"
  },
  "language_info": {
   "codemirror_mode": {
    "name": "ipython",
    "version": 3
   },
   "file_extension": ".py",
   "mimetype": "text/x-python",
   "name": "python",
   "nbconvert_exporter": "python",
   "pygments_lexer": "ipython3",
   "version": "3.9.12"
  }
 },
 "nbformat": 4,
 "nbformat_minor": 5
}
