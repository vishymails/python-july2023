{
 "cells": [
  {
   "cell_type": "code",
   "execution_count": 1,
   "id": "fc0e952f-721a-4fc4-a0db-3b7d254e762a",
   "metadata": {},
   "outputs": [
    {
     "name": "stdout",
     "output_type": "stream",
     "text": [
      "Hello JLL\n"
     ]
    }
   ],
   "source": [
    "print(\"Hello JLL\")"
   ]
  },
  {
   "cell_type": "code",
   "execution_count": 2,
   "id": "5b2c1642-71c3-451f-88e4-64073892d130",
   "metadata": {},
   "outputs": [
    {
     "name": "stdout",
     "output_type": "stream",
     "text": [
      "Variable Declaration\n",
      "another example\n"
     ]
    }
   ],
   "source": [
    "a = \"Variable Declaration\"\n",
    "\n",
    "print(a)\n",
    "\n",
    "b = (\"another example\")\n",
    "print(b)"
   ]
  },
  {
   "cell_type": "code",
   "execution_count": 3,
   "id": "f9396f76-e556-40db-b546-25c4f4468528",
   "metadata": {},
   "outputs": [
    {
     "name": "stdout",
     "output_type": "stream",
     "text": [
      "100\n",
      "100\n"
     ]
    }
   ],
   "source": [
    "counter =100\n",
    "name = \"Dr.Rao\"\n",
    "miles = 1000.0\n",
    "\n",
    "\n",
    "a = b = c = d = 100\n",
    "\n",
    "print(a)\n",
    "print(c)\n",
    "\n"
   ]
  },
  {
   "cell_type": "code",
   "execution_count": 4,
   "id": "8e9f9957-725a-4d70-b217-99ba1940c5dc",
   "metadata": {},
   "outputs": [
    {
     "name": "stdout",
     "output_type": "stream",
     "text": [
      "100\n",
      "300\n",
      "300\n",
      "100\n"
     ]
    }
   ],
   "source": [
    "x =100\n",
    "y =300\n",
    "\n",
    "\n",
    "print(x)\n",
    "print(y)\n",
    "\n",
    "x, y = y, x\n",
    "\n",
    "print(x)\n",
    "print(y)"
   ]
  },
  {
   "cell_type": "code",
   "execution_count": 5,
   "id": "0ffca90d-dcfe-491a-9bc5-661362cfc04b",
   "metadata": {},
   "outputs": [],
   "source": [
    "name, age, address = \"Dr.Rao\", 43, \"BLR\""
   ]
  },
  {
   "cell_type": "code",
   "execution_count": 6,
   "id": "c9a12d43-9f66-4be1-af80-901a9a0015bb",
   "metadata": {},
   "outputs": [
    {
     "name": "stdout",
     "output_type": "stream",
     "text": [
      "Dr.Rao\n",
      "43\n",
      "BLR\n"
     ]
    }
   ],
   "source": [
    "print(name)\n",
    "print(age)\n",
    "print(address)"
   ]
  },
  {
   "cell_type": "code",
   "execution_count": 8,
   "id": "88637128-47aa-41ba-b79e-e0553f153c49",
   "metadata": {},
   "outputs": [
    {
     "name": "stdout",
     "output_type": "stream",
     "text": [
      "5\n"
     ]
    }
   ],
   "source": [
    "m = 12\n",
    "m %= 7\n",
    "print(m)"
   ]
  },
  {
   "cell_type": "code",
   "execution_count": 9,
   "id": "fb42397b-48df-42e8-befe-d0d4e0df8180",
   "metadata": {},
   "outputs": [
    {
     "name": "stdout",
     "output_type": "stream",
     "text": [
      "1000.000000 miles is same as 1609.000000 KM\n"
     ]
    }
   ],
   "source": [
    "counter = 0\n",
    "miles = 1000.0\n",
    "name = \"raj\"\n",
    "\n",
    "\n",
    "counter = counter + 1\n",
    "kilometers = 1.609 * miles\n",
    "\n",
    "print('%f miles is same as %f KM' % (miles, kilometers))"
   ]
  },
  {
   "cell_type": "code",
   "execution_count": 11,
   "id": "746aeb36-6e75-4ab5-a2f0-3f998ff033bc",
   "metadata": {},
   "outputs": [
    {
     "name": "stdout",
     "output_type": "stream",
     "text": [
      "6\n",
      "8\n"
     ]
    }
   ],
   "source": [
    "print( 2 * 3)\n",
    "\n",
    "print(2 ** 3)"
   ]
  },
  {
   "cell_type": "code",
   "execution_count": 12,
   "id": "16236e75-df6b-433f-ae20-8c8aa783feec",
   "metadata": {},
   "outputs": [
    {
     "name": "stdout",
     "output_type": "stream",
     "text": [
      "0\n",
      "4\n",
      "3\n",
      "1\n",
      "30\n",
      "-31\n",
      "54\n"
     ]
    }
   ],
   "source": [
    "x = 1\n",
    "\n",
    "print(x >> 2)\n",
    "\n",
    "print(x << 2)\n",
    "\n",
    "print(x | 2)\n",
    "print( x & 1)\n",
    "\n",
    "print(30)\n",
    "\n",
    "print(~30)\n",
    "\n",
    "print(30 ^ 40)"
   ]
  },
  {
   "cell_type": "code",
   "execution_count": 14,
   "id": "a271539b-ad70-424f-b629-84555b8d9cce",
   "metadata": {},
   "outputs": [
    {
     "name": "stdout",
     "output_type": "stream",
     "text": [
      "True\n",
      "False\n",
      "True\n",
      "False\n",
      "False\n",
      "True\n"
     ]
    }
   ],
   "source": [
    "pi, x = 3.14, -1024\n",
    "\n",
    "print( pi < 5)\n",
    "\n",
    "print( not (pi < 5))\n",
    "\n",
    "print((pi < 5) or (x > 900))\n",
    "\n",
    "\n",
    "print((pi < 5) and (x > 900))\n",
    "\n",
    "\n",
    "print( pi is x)\n",
    "\n",
    "print(not (pi is x))"
   ]
  },
  {
   "cell_type": "code",
   "execution_count": 19,
   "id": "0a8e106f-9d4e-4298-8082-75f7ca7dc5b5",
   "metadata": {},
   "outputs": [
    {
     "name": "stdout",
     "output_type": "stream",
     "text": [
      "Checking the proxy and the firewall\n",
      "C\n",
      "eck\n",
      "ing the proxy and the firewall\n",
      "Checking the proxy and the firewallChecking the proxy and the firewall\n",
      "Checking the proxy and the firewall custom data\n"
     ]
    }
   ],
   "source": [
    "str = \"Checking the proxy and the firewall\"\n",
    "\n",
    "print(str)\n",
    "\n",
    "print(str[0])\n",
    "\n",
    "print(str[2:5])\n",
    "\n",
    "print(str[5:])\n",
    "\n",
    "print(str * 2)\n",
    "\n",
    "print(str + \" custom data\")"
   ]
  },
  {
   "cell_type": "code",
   "execution_count": 22,
   "id": "dce82835-c40e-469d-a536-c04843622ce4",
   "metadata": {},
   "outputs": [
    {
     "name": "stdout",
     "output_type": "stream",
     "text": [
      "['abcd', 893, 2.23, 'ram', 98]\n",
      "abcd\n",
      "[2.23, 'ram']\n",
      "[2.23, 'ram', 98]\n",
      "['abcd', 893, 2.23, 'ram', 98, 'abcd', 893, 2.23, 'ram', 98]\n",
      "['abcd', 893, 2.23, 'ram', 98, 123, 'mahi']\n"
     ]
    }
   ],
   "source": [
    "list1 = ['abcd', 893, 2.23, \"ram\", 98]\n",
    "\n",
    "tinyList = [123, \"mahi\"]\n",
    "\n",
    "print(list1)\n",
    "\n",
    "print(list1[0])\n",
    "\n",
    "print(list1[2:4])\n",
    "\n",
    "print(list1[2:])\n",
    "\n",
    "print(list1 * 2)\n",
    "\n",
    "\n",
    "print(list1 + tinyList)"
   ]
  },
  {
   "cell_type": "code",
   "execution_count": 24,
   "id": "cca9fa38-7b62-4aea-800c-2698eb2493bc",
   "metadata": {},
   "outputs": [
    {
     "name": "stdout",
     "output_type": "stream",
     "text": [
      "5\n",
      "98\n",
      "['abcd', 893, 'ram', 98]\n",
      "4\n"
     ]
    }
   ],
   "source": [
    "list1 = ['abcd', 893, 2.23, \"ram\", 98]\n",
    "\n",
    "print(len(list1))\n",
    "\n",
    "print(list1[4])\n",
    "\n",
    "del list1[2]\n",
    "\n",
    "print(list1)\n",
    "\n",
    "print(len(list1))"
   ]
  },
  {
   "cell_type": "code",
   "execution_count": 26,
   "id": "96399a18-b183-4a0b-a752-5f2e58bdcb4c",
   "metadata": {},
   "outputs": [
    {
     "name": "stdout",
     "output_type": "stream",
     "text": [
      "['pyspark', 'scala', 'golang', 'java', 'javascript']\n",
      "[30, 40, 50, 60, 70]\n",
      "scala\n",
      "70\n",
      "golang\n",
      "30\n"
     ]
    }
   ],
   "source": [
    "list1, list2 = [\"pyspark\", \"scala\", \"golang\", \"java\", \"javascript\"], [30, 40, 50, 60, 70]\n",
    "\n",
    "print(list1)\n",
    "print(list2)\n",
    "\n",
    "print(max(list1))\n",
    "\n",
    "print(max(list2))\n",
    "\n",
    "\n",
    "print(min(list1))\n",
    "\n",
    "print(min(list2))"
   ]
  },
  {
   "cell_type": "code",
   "execution_count": 14,
   "id": "1159ddae-f1ae-485b-ba24-473dea869310",
   "metadata": {},
   "outputs": [
    {
     "name": "stdout",
     "output_type": "stream",
     "text": [
      "2\n",
      "3\n",
      "None\n",
      "['pyspark', 'scala', 'golang', 'Erlang', 'java', 'javascript', 'pyspark', 'java']\n"
     ]
    }
   ],
   "source": [
    "list2 = [\"pyspark\", \"scala\", \"golang\", \"java\", \"javascript\", \"pyspark\", \"java\"]\n",
    "\n",
    "print(list2.count(\"pyspark\"))\n",
    "print(list2.index(\"java\"))\n",
    "\n",
    "print(list2.insert(3, \"Erlang\"))\n",
    "\n",
    "print(list2)"
   ]
  },
  {
   "cell_type": "code",
   "execution_count": 15,
   "id": "b00f9027-bb8e-46ac-8382-a108c5309943",
   "metadata": {},
   "outputs": [
    {
     "data": {
      "text/plain": [
       "'java'"
      ]
     },
     "execution_count": 15,
     "metadata": {},
     "output_type": "execute_result"
    }
   ],
   "source": [
    "list2.pop()\n"
   ]
  },
  {
   "cell_type": "code",
   "execution_count": 16,
   "id": "4fd6209f-def5-4e5a-b54c-53d3668d67b9",
   "metadata": {},
   "outputs": [
    {
     "name": "stdout",
     "output_type": "stream",
     "text": [
      "['pyspark', 'scala', 'golang', 'Erlang', 'java', 'javascript', 'pyspark']\n"
     ]
    }
   ],
   "source": [
    "print(list2)"
   ]
  },
  {
   "cell_type": "code",
   "execution_count": 17,
   "id": "d02aeb36-e190-4bcb-a310-233f0f414484",
   "metadata": {},
   "outputs": [
    {
     "name": "stdout",
     "output_type": "stream",
     "text": [
      "['pyspark', 'scala', 'golang', 'java', 'javascript', 'pyspark']\n"
     ]
    }
   ],
   "source": [
    "list2 = [\"pyspark\", \"scala\", \"golang\", \"java\", \"javascript\", \"pyspark\", \"java\"]\n",
    "\n",
    "list2.pop()\n",
    "print(list2)"
   ]
  },
  {
   "cell_type": "code",
   "execution_count": 18,
   "id": "f8a79f8a-fccd-43dc-8fbd-b3ee79ce74e0",
   "metadata": {},
   "outputs": [
    {
     "name": "stdout",
     "output_type": "stream",
     "text": [
      "['pyspark', 'scala', 'golang', 'javascript', 'pyspark', 'java']\n"
     ]
    }
   ],
   "source": [
    "list2 = [\"pyspark\", \"scala\", \"golang\", \"java\", \"javascript\", \"pyspark\", \"java\"]\n",
    "\n",
    "list2.pop(3)\n",
    "print(list2)"
   ]
  },
  {
   "cell_type": "code",
   "execution_count": 19,
   "id": "c15614a5-4a20-4e57-a1e1-fe943507bd26",
   "metadata": {},
   "outputs": [
    {
     "data": {
      "text/plain": [
       "'java'"
      ]
     },
     "execution_count": 19,
     "metadata": {},
     "output_type": "execute_result"
    }
   ],
   "source": [
    "list2 = [\"pyspark\", \"scala\", \"golang\", \"java\", \"javascript\", \"pyspark\", \"java\"]\n",
    "\n",
    "list2.pop(3)"
   ]
  },
  {
   "cell_type": "code",
   "execution_count": 21,
   "id": "83249224-0734-4512-b8fc-f42937aaa491",
   "metadata": {},
   "outputs": [],
   "source": [
    "list2 = [\"pyspark\", \"scala\", \"golang\", \"java\", \"javascript\", \"pyspark\", \"java\"]\n",
    "list2.remove(\"golang\")"
   ]
  },
  {
   "cell_type": "code",
   "execution_count": 22,
   "id": "9022ead1-6630-4e36-9429-f32bbd6de525",
   "metadata": {},
   "outputs": [
    {
     "name": "stdout",
     "output_type": "stream",
     "text": [
      "['pyspark', 'scala', 'java', 'javascript', 'pyspark', 'java']\n"
     ]
    }
   ],
   "source": [
    "list2 = [\"pyspark\", \"scala\", \"golang\", \"java\", \"javascript\", \"pyspark\", \"java\"]\n",
    "list2.remove(\"golang\")\n",
    "print(list2)"
   ]
  },
  {
   "cell_type": "code",
   "execution_count": 23,
   "id": "552879d0-901e-409c-9ba8-be71c21d3f80",
   "metadata": {},
   "outputs": [
    {
     "name": "stdout",
     "output_type": "stream",
     "text": [
      "['pyspark', 'scala', 'golang', 'javascript', 'pyspark', 'java']\n"
     ]
    }
   ],
   "source": [
    "list2 = [\"pyspark\", \"scala\", \"golang\", \"java\", \"javascript\", \"pyspark\", \"java\"]\n",
    "list2.remove(\"java\")\n",
    "print(list2)"
   ]
  },
  {
   "cell_type": "code",
   "execution_count": 24,
   "id": "f85e72fa-fe4a-4713-938a-8fee5a33e8ac",
   "metadata": {},
   "outputs": [
    {
     "name": "stdout",
     "output_type": "stream",
     "text": [
      "['java', 'pyspark', 'javascript', 'java', 'golang', 'scala', 'pyspark']\n"
     ]
    }
   ],
   "source": [
    "list2 = [\"pyspark\", \"scala\", \"golang\", \"java\", \"javascript\", \"pyspark\", \"java\"]\n",
    "list2.reverse()\n",
    "print(list2)"
   ]
  },
  {
   "cell_type": "code",
   "execution_count": 25,
   "id": "9f07b542-0ec3-4b36-9b63-0af331deabc4",
   "metadata": {},
   "outputs": [
    {
     "name": "stdout",
     "output_type": "stream",
     "text": [
      "['golang', 'java', 'java', 'javascript', 'pyspark', 'pyspark', 'scala']\n"
     ]
    }
   ],
   "source": [
    "list2 = [\"pyspark\", \"scala\", \"golang\", \"java\", \"javascript\", \"pyspark\", \"java\"]\n",
    "list2.sort()\n",
    "print(list2)"
   ]
  },
  {
   "cell_type": "code",
   "execution_count": 28,
   "id": "a6863f9a-241c-4107-9bfb-3b239d2b37e6",
   "metadata": {},
   "outputs": [
    {
     "name": "stdout",
     "output_type": "stream",
     "text": [
      "[['ram', 32], ['raj', 56]]\n"
     ]
    }
   ],
   "source": [
    "list1 = [\"ram\", 32]\n",
    "list2 = [\"raj\", 56]\n",
    "\n",
    "db = [list1, list2]\n",
    "\n",
    "print(db)"
   ]
  },
  {
   "cell_type": "code",
   "execution_count": 29,
   "id": "016b2534-6986-4ee4-b92e-c62a9d3afbe7",
   "metadata": {},
   "outputs": [
    {
     "name": "stdout",
     "output_type": "stream",
     "text": [
      "['pyspark', 'scala', 'golang', 'java', 'javascript', 'pyspark', 'java', 'Kotlin', 'c++', 'c']\n"
     ]
    }
   ],
   "source": [
    "list2 = [\"pyspark\", \"scala\", \"golang\", \"java\", \"javascript\", \"pyspark\", \"java\"]\n",
    "list2.extend([\"Kotlin\", \"c++\", \"c\"])\n",
    "print(list2)"
   ]
  },
  {
   "cell_type": "code",
   "execution_count": 30,
   "id": "30e084e0-0df1-43e7-9825-0ac8fed77e69",
   "metadata": {},
   "outputs": [
    {
     "name": "stdout",
     "output_type": "stream",
     "text": [
      "-1\n"
     ]
    }
   ],
   "source": [
    "def cmp(x, y) :\n",
    "    return (x > y) - (x < y)\n",
    "\n",
    "\n",
    "list1, list2 = [123, \"xyz\"], [456, \"abc\"]\n",
    "\n",
    "print(cmp(list1, list2))\n",
    "                              \n",
    "                              "
   ]
  },
  {
   "cell_type": "code",
   "execution_count": 31,
   "id": "94cd75b8-e93d-455d-bd86-c3197ef1b00a",
   "metadata": {},
   "outputs": [
    {
     "name": "stdout",
     "output_type": "stream",
     "text": [
      "1\n"
     ]
    }
   ],
   "source": [
    "print(cmp(list2, list1))"
   ]
  },
  {
   "cell_type": "code",
   "execution_count": 33,
   "id": "60168d9d-fcba-4df0-b4fd-009e26a160b1",
   "metadata": {},
   "outputs": [
    {
     "name": "stdout",
     "output_type": "stream",
     "text": [
      "var is 100\n",
      "Done\n"
     ]
    }
   ],
   "source": [
    "var = 100\n",
    "\n",
    "if (var == 100) :\n",
    "    print(\"var is 100\")\n",
    "    print(\"Done\")\n",
    "    \n",
    "    "
   ]
  },
  {
   "cell_type": "code",
   "execution_count": 34,
   "id": "9977dca0-3aac-4a6b-a09d-c52ff146a350",
   "metadata": {},
   "outputs": [
    {
     "name": "stdout",
     "output_type": "stream",
     "text": [
      "var is 100\n",
      "Done\n"
     ]
    }
   ],
   "source": [
    "var = 100\n",
    "\n",
    "if (var == 100) : print(\"var is 100\")\n",
    "\n",
    "print(\"Done\")\n",
    "    "
   ]
  },
  {
   "cell_type": "code",
   "execution_count": 35,
   "id": "62b58a27-3798-4146-8e7c-858c3ada8e01",
   "metadata": {},
   "outputs": [
    {
     "ename": "IndentationError",
     "evalue": "unexpected indent (3746220904.py, line 5)",
     "output_type": "error",
     "traceback": [
      "\u001b[1;36m  Input \u001b[1;32mIn [35]\u001b[1;36m\u001b[0m\n\u001b[1;33m    print(\"Done\")\u001b[0m\n\u001b[1;37m    ^\u001b[0m\n\u001b[1;31mIndentationError\u001b[0m\u001b[1;31m:\u001b[0m unexpected indent\n"
     ]
    }
   ],
   "source": [
    "var = 100\n",
    "\n",
    "if (var == 100) :\n",
    "    print(\"var is 100\")\n",
    "        print(\"Done\")\n",
    "    "
   ]
  },
  {
   "cell_type": "code",
   "execution_count": 36,
   "id": "a06d95f8-1060-44ed-980c-15e9cbd27eb4",
   "metadata": {},
   "outputs": [
    {
     "name": "stdout",
     "output_type": "stream",
     "text": [
      "30\n"
     ]
    }
   ],
   "source": [
    "x, y = 30, 40\n",
    "\n",
    "if x < y :\n",
    "    smaller = x\n",
    "else :\n",
    "    smaller = y\n",
    "    \n",
    "print(smaller)"
   ]
  },
  {
   "cell_type": "code",
   "execution_count": 37,
   "id": "ef24aaab-023c-475a-a0a6-f48dc031852e",
   "metadata": {},
   "outputs": [
    {
     "name": "stdout",
     "output_type": "stream",
     "text": [
      "30\n"
     ]
    }
   ],
   "source": [
    "smaller =(x < y and [x] or [y])[0]\n",
    "\n",
    "print(smaller)"
   ]
  },
  {
   "cell_type": "code",
   "execution_count": 38,
   "id": "fd7da1e0-b5d0-46d7-a302-52262a947459",
   "metadata": {},
   "outputs": [
    {
     "name": "stdout",
     "output_type": "stream",
     "text": [
      "30\n"
     ]
    }
   ],
   "source": [
    "smaller = x if x< y else y\n",
    "print(smaller)"
   ]
  },
  {
   "cell_type": "code",
   "execution_count": 39,
   "id": "b240a5c6-3989-466a-b873-af26e0a2ed0c",
   "metadata": {},
   "outputs": [
    {
     "name": "stdout",
     "output_type": "stream",
     "text": [
      "x is even and non negative\n"
     ]
    }
   ],
   "source": [
    "x = 2\n",
    "\n",
    "if (x < 0) :\n",
    "    print(\"x is negative\")\n",
    "elif x % 2 :\n",
    "    print(\"x is positive and odd\")\n",
    "else :\n",
    "    print(\"x is even and non negative\")"
   ]
  },
  {
   "cell_type": "code",
   "execution_count": 41,
   "id": "41b18563-fcf3-494b-bfc4-795f9ecf034e",
   "metadata": {},
   "outputs": [
    {
     "name": "stdin",
     "output_type": "stream",
     "text": [
      "What is your name ? Vishwanath Rao\n"
     ]
    },
    {
     "name": "stdout",
     "output_type": "stream",
     "text": [
      "Hello Rao\n"
     ]
    }
   ],
   "source": [
    "name = input(\"What is your name ?\")\n",
    "if name.endswith(\"Rao\") :\n",
    "    print(\"Hello Rao\")\n",
    "else :\n",
    "    print(\"Hello Others\")"
   ]
  },
  {
   "cell_type": "code",
   "execution_count": 42,
   "id": "d8d6d372-45ac-4291-8869-588b12199350",
   "metadata": {},
   "outputs": [
    {
     "name": "stdout",
     "output_type": "stream",
     "text": [
      "0\n",
      "1\n",
      "2\n",
      "3\n",
      "4\n",
      "5\n",
      "6\n",
      "7\n",
      "8\n",
      "loop finished\n"
     ]
    }
   ],
   "source": [
    "count = 0\n",
    "\n",
    "while (count < 9) :\n",
    "    print(count)\n",
    "    count = count + 1\n",
    "    \n",
    "print(\"loop finished\")"
   ]
  },
  {
   "cell_type": "code",
   "execution_count": 44,
   "id": "5c63a3c6-8c0a-4dad-8310-98a7a73198b6",
   "metadata": {},
   "outputs": [
    {
     "name": "stdout",
     "output_type": "stream",
     "text": [
      "Count is less than 5 0\n",
      "Count is less than 5 1\n",
      "Count is less than 5 2\n",
      "Count is less than 5 3\n",
      "Count is less than 5 4\n",
      "COunt is not less than 5 5\n",
      "loop finished\n"
     ]
    }
   ],
   "source": [
    "count = 0\n",
    "\n",
    "while (count < 5) :\n",
    "    print(\"Count is less than 5\", count)\n",
    "    count = count + 1\n",
    "else :\n",
    "    print(\"Count is not less than 5\", count)\n",
    "    \n",
    "print(\"loop finished\")"
   ]
  },
  {
   "cell_type": "code",
   "execution_count": 45,
   "id": "c1e2dd2d-5d8c-429d-8ab7-ba4970a3caf7",
   "metadata": {},
   "outputs": [
    {
     "name": "stdout",
     "output_type": "stream",
     "text": [
      "P\n",
      "y\n",
      "S\n",
      "p\n",
      "a\n",
      "r\n",
      "k\n"
     ]
    }
   ],
   "source": [
    "for letter in \"PySpark\" :\n",
    "    print(letter)"
   ]
  },
  {
   "cell_type": "code",
   "execution_count": 46,
   "id": "14d246f4-2d62-4b49-a955-aff91eb715f7",
   "metadata": {},
   "outputs": [
    {
     "name": "stdout",
     "output_type": "stream",
     "text": [
      "pyspark\n",
      "scala\n",
      "golang\n",
      "java\n",
      "javascript\n",
      "pyspark\n",
      "java\n"
     ]
    }
   ],
   "source": [
    "list2 = [\"pyspark\", \"scala\", \"golang\", \"java\", \"javascript\", \"pyspark\", \"java\"]\n",
    "\n",
    "for lang in list2:\n",
    "    print(lang)"
   ]
  },
  {
   "cell_type": "code",
   "execution_count": 47,
   "id": "2fa30a5c-d304-43f1-9687-8188007b369d",
   "metadata": {},
   "outputs": [
    {
     "name": "stdout",
     "output_type": "stream",
     "text": [
      "pyspark\n",
      "scala\n",
      "golang\n",
      "java\n",
      "javascript\n",
      "pyspark\n",
      "java\n"
     ]
    }
   ],
   "source": [
    "list2 = [\"pyspark\", \"scala\", \"golang\", \"java\", \"javascript\", \"pyspark\", \"java\"]\n",
    "\n",
    "for index in range(len(list2)):\n",
    "    print(list2[index])"
   ]
  },
  {
   "cell_type": "code",
   "execution_count": 48,
   "id": "03b7f100-4f70-4b02-b4f7-312e328c9c6d",
   "metadata": {},
   "outputs": [
    {
     "name": "stdout",
     "output_type": "stream",
     "text": [
      "10 equals 2 * 5 \n",
      "11 is a prime number\n",
      "11 is a prime number\n",
      "11 is a prime number\n",
      "11 is a prime number\n",
      "11 is a prime number\n",
      "11 is a prime number\n",
      "11 is a prime number\n",
      "11 is a prime number\n",
      "11 is a prime number\n",
      "12 equals 2 * 6 \n",
      "13 is a prime number\n",
      "13 is a prime number\n",
      "13 is a prime number\n",
      "13 is a prime number\n",
      "13 is a prime number\n",
      "13 is a prime number\n",
      "13 is a prime number\n",
      "13 is a prime number\n",
      "13 is a prime number\n",
      "13 is a prime number\n",
      "13 is a prime number\n",
      "14 equals 2 * 7 \n",
      "15 is a prime number\n",
      "15 equals 3 * 5 \n",
      "16 equals 2 * 8 \n",
      "17 is a prime number\n",
      "17 is a prime number\n",
      "17 is a prime number\n",
      "17 is a prime number\n",
      "17 is a prime number\n",
      "17 is a prime number\n",
      "17 is a prime number\n",
      "17 is a prime number\n",
      "17 is a prime number\n",
      "17 is a prime number\n",
      "17 is a prime number\n",
      "17 is a prime number\n",
      "17 is a prime number\n",
      "17 is a prime number\n",
      "17 is a prime number\n",
      "18 equals 2 * 9 \n",
      "19 is a prime number\n",
      "19 is a prime number\n",
      "19 is a prime number\n",
      "19 is a prime number\n",
      "19 is a prime number\n",
      "19 is a prime number\n",
      "19 is a prime number\n",
      "19 is a prime number\n",
      "19 is a prime number\n",
      "19 is a prime number\n",
      "19 is a prime number\n",
      "19 is a prime number\n",
      "19 is a prime number\n",
      "19 is a prime number\n",
      "19 is a prime number\n",
      "19 is a prime number\n",
      "19 is a prime number\n",
      "20 equals 2 * 10 \n",
      "21 is a prime number\n",
      "21 equals 3 * 7 \n",
      "22 equals 2 * 11 \n",
      "23 is a prime number\n",
      "23 is a prime number\n",
      "23 is a prime number\n",
      "23 is a prime number\n",
      "23 is a prime number\n",
      "23 is a prime number\n",
      "23 is a prime number\n",
      "23 is a prime number\n",
      "23 is a prime number\n",
      "23 is a prime number\n",
      "23 is a prime number\n",
      "23 is a prime number\n",
      "23 is a prime number\n",
      "23 is a prime number\n",
      "23 is a prime number\n",
      "23 is a prime number\n",
      "23 is a prime number\n",
      "23 is a prime number\n",
      "23 is a prime number\n",
      "23 is a prime number\n",
      "23 is a prime number\n",
      "24 equals 2 * 12 \n",
      "25 is a prime number\n",
      "25 is a prime number\n",
      "25 is a prime number\n",
      "25 equals 5 * 5 \n",
      "26 equals 2 * 13 \n",
      "27 is a prime number\n",
      "27 equals 3 * 9 \n",
      "28 equals 2 * 14 \n",
      "29 is a prime number\n",
      "29 is a prime number\n",
      "29 is a prime number\n",
      "29 is a prime number\n",
      "29 is a prime number\n",
      "29 is a prime number\n",
      "29 is a prime number\n",
      "29 is a prime number\n",
      "29 is a prime number\n",
      "29 is a prime number\n",
      "29 is a prime number\n",
      "29 is a prime number\n",
      "29 is a prime number\n",
      "29 is a prime number\n",
      "29 is a prime number\n",
      "29 is a prime number\n",
      "29 is a prime number\n",
      "29 is a prime number\n",
      "29 is a prime number\n",
      "29 is a prime number\n",
      "29 is a prime number\n",
      "29 is a prime number\n",
      "29 is a prime number\n",
      "29 is a prime number\n",
      "29 is a prime number\n",
      "29 is a prime number\n",
      "29 is a prime number\n"
     ]
    }
   ],
   "source": [
    "for num in range(10, 30) :\n",
    "    for i in range(2, num) :\n",
    "        if num%i == 0 : \n",
    "            j = num/i\n",
    "            print('%d equals %d * %d ' % (num, i, j))\n",
    "            break\n",
    "        else :\n",
    "            print(num, 'is a prime number')\n",
    "            \n",
    "            "
   ]
  },
  {
   "cell_type": "code",
   "execution_count": 50,
   "id": "85bbaff9-1c47-46d7-ad9b-f69467149535",
   "metadata": {},
   "outputs": [
    {
     "name": "stdout",
     "output_type": "stream",
     "text": [
      "Current letter is  P\n",
      "Current letter is  y\n",
      "Current letter is  t\n",
      "Current letter is  o\n",
      "Current letter is  n\n"
     ]
    }
   ],
   "source": [
    "for letter in \"Python\" :\n",
    "    if letter == \"h\" :\n",
    "        continue \n",
    "    print(\"Current letter is \", letter)"
   ]
  },
  {
   "cell_type": "code",
   "execution_count": 51,
   "id": "93c7b362-bf6b-4518-a1b3-19e946df52de",
   "metadata": {},
   "outputs": [
    {
     "name": "stdout",
     "output_type": "stream",
     "text": [
      "(1, 2, 3, 4)\n"
     ]
    }
   ],
   "source": [
    "x = 1,2,3,4\n",
    "print(x)"
   ]
  },
  {
   "cell_type": "code",
   "execution_count": 52,
   "id": "57d2c02d-83ac-4b2a-b4a4-9d1a6d7b3551",
   "metadata": {},
   "outputs": [
    {
     "name": "stdout",
     "output_type": "stream",
     "text": [
      "(1, 2, 3, 4)\n"
     ]
    }
   ],
   "source": [
    "x = (1, 2, 3, 4)\n",
    "print(x)"
   ]
  },
  {
   "cell_type": "code",
   "execution_count": null,
   "id": "aab6c5f6-8646-451d-8b34-9535dc898acb",
   "metadata": {},
   "outputs": [],
   "source": []
  }
 ],
 "metadata": {
  "kernelspec": {
   "display_name": "Python 3 (ipykernel)",
   "language": "python",
   "name": "python3"
  },
  "language_info": {
   "codemirror_mode": {
    "name": "ipython",
    "version": 3
   },
   "file_extension": ".py",
   "mimetype": "text/x-python",
   "name": "python",
   "nbconvert_exporter": "python",
   "pygments_lexer": "ipython3",
   "version": "3.9.12"
  }
 },
 "nbformat": 4,
 "nbformat_minor": 5
}
