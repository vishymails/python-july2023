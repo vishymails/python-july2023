{
 "cells": [
  {
   "cell_type": "code",
   "execution_count": 1,
   "id": "dffbd981-9737-4915-849e-7230068275e8",
   "metadata": {},
   "outputs": [
    {
     "name": "stdout",
     "output_type": "stream",
     "text": [
      "done\n"
     ]
    }
   ],
   "source": [
    "import csv\n",
    "\n",
    "# field names \n",
    "\n",
    "fields = ['Name', 'Branch', 'Year', 'CGPA']\n",
    "\n",
    "# data \n",
    "\n",
    "rows = [\n",
    "        ['Ram', 'COE', 2, '9.0'],\n",
    "        ['Sahil', 'COE', 2, '9.2'],\n",
    "        ['Krishna', 'IT', 8, '8.0'],\n",
    "        ['Rajesh', 'MCE', 5, '9.8'],\n",
    "        ['Raj', 'SE', 3, '8.0'],\n",
    "        ['Joe', 'EP', 4, '7.0']\n",
    "    ]\n",
    "\n",
    "fileName = \"records.csv\"\n",
    "\n",
    "with open(fileName, \"w\") as csvfile :\n",
    "    csvWriter = csv.writer(csvfile)\n",
    "    \n",
    "    csvWriter.writerow(fields)\n",
    "    \n",
    "    csvWriter.writerows(rows)\n",
    "    \n",
    "print(\"done\")"
   ]
  },
  {
   "cell_type": "code",
   "execution_count": 2,
   "id": "4e26eddf-27ea-4467-9d7c-a1da4e893eb9",
   "metadata": {},
   "outputs": [
    {
     "name": "stdout",
     "output_type": "stream",
     "text": [
      "done\n"
     ]
    }
   ],
   "source": [
    "import csv \n",
    "\n",
    "fields = ['Name', 'Branch', 'Year', 'CGPA']\n",
    "\n",
    "# data \n",
    "\n",
    "rows = [\n",
    "        {'Name' : 'Ram', 'Branch' :'COE', 'Year' : '2', 'CGPA' : '9.0'},\n",
    "        {'Name' : 'Sahil', 'Branch' :'COE', 'Year' : '2', 'CGPA' : '9.2'},\n",
    "        {'Name' : 'Krishna', 'Branch' :'IT', 'Year' : '8', 'CGPA' : '8.0'},\n",
    "        {'Name' : 'Rajesh', 'Branch' :'MCE', 'Year' : '5', 'CGPA' : '9.8'},\n",
    "        {'Name' : 'Raj', 'Branch' :'SE', 'Year' : '3', 'CGPA' : '8.0'},\n",
    "        {'Name' : 'Joe', 'Branch' :'EP', 'Year' : '4', 'CGPA' : '7.0'}\n",
    "    ]\n",
    "\n",
    "fileName = \"records1.csv\"\n",
    "\n",
    "with open(fileName, \"w\") as csvfile :\n",
    "    csvWriter = csv.DictWriter(csvfile, fieldnames = fields)\n",
    "    \n",
    "    csvWriter.writeheader()\n",
    "    \n",
    "    csvWriter.writerows(rows)\n",
    "    \n",
    "print(\"done\")"
   ]
  },
  {
   "cell_type": "code",
   "execution_count": 3,
   "id": "23bb3e55-3a04-4d38-a7fe-67de5297bb0b",
   "metadata": {},
   "outputs": [
    {
     "name": "stdout",
     "output_type": "stream",
     "text": [
      "Requirement already satisfied: PyPDF2 in c:\\users\\dr_vi\\anaconda3\\lib\\site-packages (3.0.1)\n",
      "Requirement already satisfied: typing_extensions>=3.10.0.0 in c:\\users\\dr_vi\\anaconda3\\lib\\site-packages (from PyPDF2) (4.1.1)\n"
     ]
    },
    {
     "name": "stderr",
     "output_type": "stream",
     "text": [
      "\n",
      "[notice] A new release of pip available: 22.2.2 -> 23.2.1\n",
      "[notice] To update, run: python.exe -m pip install --upgrade pip\n"
     ]
    }
   ],
   "source": [
    "!pip install PyPDF2\n"
   ]
  },
  {
   "cell_type": "code",
   "execution_count": 12,
   "id": "7a2922e6-3b90-4654-a0ae-c9714c5b5582",
   "metadata": {},
   "outputs": [
    {
     "name": "stdout",
     "output_type": "stream",
     "text": [
      "20\n",
      "Python Basics\n",
      "S.R. Doty\n",
      "August 27, 2008\n",
      "Contents\n",
      "1 Preliminaries 4\n",
      "1.1 What is Python? . . . . . . . . . . . . . . . . . . . . . . . . . . . . . . . . . . . . . 4\n",
      "1.2 Installation and documentation . . . . . . . . . . . . . . . . . . . . . . . . . . . . . 4\n",
      "2 Getting started 4\n",
      "2.1 Running Python as a calculator . . . . . . . . . . . . . . . . . . . . . . . . . . . . . 4\n",
      "2.2 Quitting the interpreter . . . . . . . . . . . . . . . . . . . . . . . . . . . . . . . . . 6\n",
      "2.3 Loading commands from the library . . . . . . . . . . . . . . . . . . . . . . . . . . . 6\n",
      "2.4 Deﬁning functions . . . . . . . . . . . . . . . . . . . . . . . . . . . . . . . . . . . . . 7\n",
      "2.5 Files . . . . . . . . . . . . . . . . . . . . . . . . . . . . . . . . . . . . . . . . . . . . 8\n",
      "2.6 Testing code . . . . . . . . . . . . . . . . . . . . . . . . . . . . . . . . . . . . . . . . 8\n",
      "2.7 Scripts . . . . . . . . . . . . . . . . . . . . . . . . . . . . . . . . . . . . . . . . . . . 8\n",
      "1\n"
     ]
    }
   ],
   "source": [
    "import PyPDF2\n",
    "\n",
    "pdfFileObj = open(\"example.pdf\", \"rb\")\n",
    "\n",
    "pdfReader = PyPDF2.PdfReader(pdfFileObj)\n",
    "\n",
    "print(len(pdfReader.pages))\n",
    "\n",
    "pageObj = pdfReader.pages[0]\n",
    "\n",
    "print(pageObj.extract_text())\n",
    "\n",
    "pdfFileObj.close()"
   ]
  },
  {
   "cell_type": "code",
   "execution_count": 16,
   "id": "23c172fc-bd45-4ed1-8ba8-7200ea3e6927",
   "metadata": {},
   "outputs": [],
   "source": [
    "import PyPDF2\n",
    "\n",
    "def PDFMerge(pdfs, output) :\n",
    "    pdfMerger = PyPDF2.PdfMerger()\n",
    "    \n",
    "    for pdf in pdfs :\n",
    "        with open(pdf, \"rb\") as f :\n",
    "            pdfMerger.append(f)\n",
    "            \n",
    "    with open(output, \"wb\") as f :\n",
    "        pdfMerger.write(f)\n",
    "        \n",
    "        \n",
    "\n",
    "def main() :\n",
    "    pdfs = [\"example.pdf\", \"rotated_example.pdf\"]\n",
    "    \n",
    "    output = \"combined_example.pdf\"\n",
    "    \n",
    "    PDFMerge(pdfs = pdfs, output = output)\n",
    "    \n",
    "\n",
    "if __name__ == \"__main__\" :\n",
    "    main()\n",
    "    "
   ]
  },
  {
   "cell_type": "code",
   "execution_count": 24,
   "id": "9ed672fb-f450-4dd9-a1d2-252cd5dca68d",
   "metadata": {},
   "outputs": [
    {
     "name": "stdout",
     "output_type": "stream",
     "text": [
      "python_files/python_wiki.txt\n",
      "3\n",
      "20\n",
      "986\n",
      "986\n",
      "File Name                                             Modified             Size\n",
      "python_files/python_wiki.txt                   2018-02-06 18:14:02          986\n",
      "python_files/python_basic.pdf                  2018-02-06 18:14:02       210098\n",
      "python_files/logos/python_logo.jpg             2018-02-06 18:14:02        46623\n",
      "python_files/python_basic.pdf\n",
      "3\n",
      "20\n",
      "210098\n",
      "210098\n",
      "File Name                                             Modified             Size\n",
      "python_files/python_wiki.txt                   2018-02-06 18:14:02          986\n",
      "python_files/python_basic.pdf                  2018-02-06 18:14:02       210098\n",
      "python_files/logos/python_logo.jpg             2018-02-06 18:14:02        46623\n",
      "python_files/logos/python_logo.jpg\n",
      "3\n",
      "20\n",
      "46623\n",
      "46623\n",
      "File Name                                             Modified             Size\n",
      "python_files/python_wiki.txt                   2018-02-06 18:14:02          986\n",
      "python_files/python_basic.pdf                  2018-02-06 18:14:02       210098\n",
      "python_files/logos/python_logo.jpg             2018-02-06 18:14:02        46623\n"
     ]
    }
   ],
   "source": [
    "from zipfile import ZipFile\n",
    "import datetime\n",
    "\n",
    "file_name = \"my_python_files.zip\"\n",
    "\n",
    "with ZipFile(file_name, 'r') as zip :\n",
    "    for info in zip.infolist() :\n",
    "        print(info.filename)\n",
    "        print(str(info.create_system))\n",
    "        print(str(info.create_version))\n",
    "        print(str(info.compress_size))\n",
    "        print(str(info.file_size))\n",
    "        zip.printdir()\n",
    "        zip.extractall()"
   ]
  },
  {
   "cell_type": "code",
   "execution_count": 21,
   "id": "128316f4-aa9e-4e8f-b473-c1f04edaf297",
   "metadata": {},
   "outputs": [
    {
     "name": "stdout",
     "output_type": "stream",
     "text": [
      "Following files will be zipped:\n",
      "./python_files\\jll.txt\n",
      "./python_files\\python_basic.pdf\n",
      "./python_files\\python_wiki.txt\n",
      "./python_files\\.ipynb_checkpoints\\jll-checkpoint.txt\n",
      "./python_files\\logos\\python_logo.jpg\n",
      "All files zipped successfully!\n"
     ]
    }
   ],
   "source": [
    "from zipfile import ZipFile\n",
    "import os\n",
    " \n",
    "def get_all_file_paths(directory):\n",
    " \n",
    "    # initializing empty file paths list\n",
    "    file_paths = []\n",
    " \n",
    "    # crawling through directory and subdirectories\n",
    "    for root, directories, files in os.walk(directory):\n",
    "        for filename in files:\n",
    "            # join the two strings in order to form the full filepath.\n",
    "            filepath = os.path.join(root, filename)\n",
    "            file_paths.append(filepath)\n",
    " \n",
    "    # returning all file paths\n",
    "    return file_paths        \n",
    " \n",
    "def main():\n",
    "    # path to folder which needs to be zipped\n",
    "    directory = './python_files'\n",
    " \n",
    "    # calling function to get all file paths in the directory\n",
    "    file_paths = get_all_file_paths(directory)\n",
    " \n",
    "    # printing the list of all files to be zipped\n",
    "    print('Following files will be zipped:')\n",
    "    for file_name in file_paths:\n",
    "        print(file_name)\n",
    " \n",
    "    # writing files to a zipfile\n",
    "    with ZipFile('my_python_files_jll.zip','w') as zip:\n",
    "        # writing each file one by one\n",
    "        for file in file_paths:\n",
    "            zip.write(file)\n",
    " \n",
    "    print('All files zipped successfully!')        \n",
    " \n",
    " \n",
    "if __name__ == \"__main__\":\n",
    "    main()\n"
   ]
  },
  {
   "cell_type": "code",
   "execution_count": 23,
   "id": "be7f03cb-d001-4697-97fe-307abf064659",
   "metadata": {},
   "outputs": [
    {
     "name": "stdout",
     "output_type": "stream",
     "text": [
      "python_files/jll.txt\n",
      "0\n",
      "20\n",
      "15\n",
      "15\n",
      "File Name                                             Modified             Size\n",
      "python_files/jll.txt                           2023-07-27 11:03:16           15\n",
      "python_files/python_basic.pdf                  2023-07-27 11:00:52       210098\n",
      "python_files/python_wiki.txt                   2023-07-27 11:00:52          986\n",
      "python_files/.ipynb_checkpoints/jll-checkpoint.txt 2023-07-27 11:03:16           15\n",
      "python_files/logos/python_logo.jpg             2023-07-27 11:00:52        46623\n",
      "python_files/python_basic.pdf\n",
      "0\n",
      "20\n",
      "210098\n",
      "210098\n",
      "File Name                                             Modified             Size\n",
      "python_files/jll.txt                           2023-07-27 11:03:16           15\n",
      "python_files/python_basic.pdf                  2023-07-27 11:00:52       210098\n",
      "python_files/python_wiki.txt                   2023-07-27 11:00:52          986\n",
      "python_files/.ipynb_checkpoints/jll-checkpoint.txt 2023-07-27 11:03:16           15\n",
      "python_files/logos/python_logo.jpg             2023-07-27 11:00:52        46623\n",
      "python_files/python_wiki.txt\n",
      "0\n",
      "20\n",
      "986\n",
      "986\n",
      "File Name                                             Modified             Size\n",
      "python_files/jll.txt                           2023-07-27 11:03:16           15\n",
      "python_files/python_basic.pdf                  2023-07-27 11:00:52       210098\n",
      "python_files/python_wiki.txt                   2023-07-27 11:00:52          986\n",
      "python_files/.ipynb_checkpoints/jll-checkpoint.txt 2023-07-27 11:03:16           15\n",
      "python_files/logos/python_logo.jpg             2023-07-27 11:00:52        46623\n",
      "python_files/.ipynb_checkpoints/jll-checkpoint.txt\n",
      "0\n",
      "20\n",
      "15\n",
      "15\n",
      "File Name                                             Modified             Size\n",
      "python_files/jll.txt                           2023-07-27 11:03:16           15\n",
      "python_files/python_basic.pdf                  2023-07-27 11:00:52       210098\n",
      "python_files/python_wiki.txt                   2023-07-27 11:00:52          986\n",
      "python_files/.ipynb_checkpoints/jll-checkpoint.txt 2023-07-27 11:03:16           15\n",
      "python_files/logos/python_logo.jpg             2023-07-27 11:00:52        46623\n",
      "python_files/logos/python_logo.jpg\n",
      "0\n",
      "20\n",
      "46623\n",
      "46623\n",
      "File Name                                             Modified             Size\n",
      "python_files/jll.txt                           2023-07-27 11:03:16           15\n",
      "python_files/python_basic.pdf                  2023-07-27 11:00:52       210098\n",
      "python_files/python_wiki.txt                   2023-07-27 11:00:52          986\n",
      "python_files/.ipynb_checkpoints/jll-checkpoint.txt 2023-07-27 11:03:16           15\n",
      "python_files/logos/python_logo.jpg             2023-07-27 11:00:52        46623\n"
     ]
    }
   ],
   "source": [
    "from zipfile import ZipFile\n",
    "import datetime\n",
    "\n",
    "file_name = \"my_python_files_jll.zip\"\n",
    "\n",
    "with ZipFile(file_name, 'r') as zip :\n",
    "    for info in zip.infolist() :\n",
    "        print(info.filename)\n",
    "        print(str(info.create_system))\n",
    "        print(str(info.create_version))\n",
    "        print(str(info.compress_size))\n",
    "        print(str(info.file_size))\n",
    "        zip.printdir()\n",
    "        #zip.extractall()"
   ]
  },
  {
   "cell_type": "code",
   "execution_count": null,
   "id": "daf94a93-6aaa-4183-a8b4-1b36fc83d774",
   "metadata": {},
   "outputs": [],
   "source": []
  }
 ],
 "metadata": {
  "kernelspec": {
   "display_name": "Python 3 (ipykernel)",
   "language": "python",
   "name": "python3"
  },
  "language_info": {
   "codemirror_mode": {
    "name": "ipython",
    "version": 3
   },
   "file_extension": ".py",
   "mimetype": "text/x-python",
   "name": "python",
   "nbconvert_exporter": "python",
   "pygments_lexer": "ipython3",
   "version": "3.9.12"
  }
 },
 "nbformat": 4,
 "nbformat_minor": 5
}
